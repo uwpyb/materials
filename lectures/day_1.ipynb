{
 "cells": [
  {
   "cell_type": "markdown",
   "metadata": {
    "slideshow": {
     "slide_type": "slide"
    }
   },
   "source": [
    "# Programming Workshop for Beginners\n",
    "### Day 1: Laying the foundation\n",
    "### Saturday, Nov 17, 2017\n",
    "### University of Waterloo\n",
    "<img src=\"./files/foundation.jpg\" width=\"300\" >"
   ]
  },
  {
   "cell_type": "markdown",
   "metadata": {
    "slideshow": {
     "slide_type": "slide"
    }
   },
   "source": [
    "# Review from yesterday\n",
    "\n",
    "1. Data Types (`string`, `int`, `float`)\n",
    "\n",
    "2. Putting data into `variables`\n",
    "\n",
    "2. Simple data operations and manipulation"
   ]
  },
  {
   "cell_type": "markdown",
   "metadata": {
    "slideshow": {
     "slide_type": "slide"
    }
   },
   "source": [
    "## Schedule\n",
    "\n",
    "```\n",
    "10:00 - 11:00: Work\n",
    "11:00 - 11:10: Break\n",
    "11:10 - 12:15: Work\n",
    "\n",
    "12:15 - 13:00: Lunch\n",
    "13:00 - 16:00: Work & Project\n",
    "```"
   ]
  },
  {
   "cell_type": "markdown",
   "metadata": {
    "slideshow": {
     "slide_type": "slide"
    }
   },
   "source": [
    "Welcome to Day 1\n",
    "=========\n",
    "\n",
    "**Here's what we're going to cover today:**\n",
    "1. Lists\n",
    "2. Conditions \n",
    "3. Talking to the user using `input()`\n",
    "4. Repeating steps with for loops"
   ]
  },
  {
   "cell_type": "markdown",
   "metadata": {
    "slideshow": {
     "slide_type": "slide"
    }
   },
   "source": [
    "Slides available online at:\n",
    "- `http://uwpyb.github.io/materials/lectures/day_1.slides.html#/`\n",
    "\n",
    "Or if you want a shorter URL:\n",
    "- `http://goo.gl/7GtZqx`"
   ]
  },
  {
   "cell_type": "markdown",
   "metadata": {
    "slideshow": {
     "slide_type": "slide"
    }
   },
   "source": [
    "Lists: shelves full of items\n",
    "=======================\n",
    "<img src=\"./files/shelves.jpg\" width=\"400\" >"
   ]
  },
  {
   "cell_type": "markdown",
   "metadata": {
    "slideshow": {
     "slide_type": "slide"
    }
   },
   "source": [
    "# Building a list"
   ]
  },
  {
   "cell_type": "code",
   "execution_count": 1,
   "metadata": {
    "slideshow": {
     "slide_type": "-"
    }
   },
   "outputs": [
    {
     "name": "stdout",
     "output_type": "stream",
     "text": [
      "['apples', 'blueberries', 'chocolate']\n"
     ]
    },
    {
     "data": {
      "text/plain": [
       "list"
      ]
     },
     "execution_count": 1,
     "metadata": {},
     "output_type": "execute_result"
    }
   ],
   "source": [
    "groceries = [\"apples\", \"blueberries\", \"chocolate\"]\n",
    "print(groceries)\n",
    "type(groceries)"
   ]
  },
  {
   "cell_type": "markdown",
   "metadata": {
    "slideshow": {
     "slide_type": "slide"
    }
   },
   "source": [
    "# Getting a single thing from lists using an `index`"
   ]
  },
  {
   "cell_type": "code",
   "execution_count": 2,
   "metadata": {
    "slideshow": {
     "slide_type": "-"
    }
   },
   "outputs": [
    {
     "name": "stdout",
     "output_type": "stream",
     "text": [
      "apples\n"
     ]
    }
   ],
   "source": [
    "# 0 is the index\n",
    "print(groceries[0])"
   ]
  },
  {
   "cell_type": "code",
   "execution_count": 3,
   "metadata": {
    "slideshow": {
     "slide_type": "-"
    }
   },
   "outputs": [
    {
     "name": "stdout",
     "output_type": "stream",
     "text": [
      "chocolate\n"
     ]
    }
   ],
   "source": [
    "print(groceries[2])"
   ]
  },
  {
   "cell_type": "code",
   "execution_count": 4,
   "metadata": {
    "slideshow": {
     "slide_type": "-"
    }
   },
   "outputs": [
    {
     "name": "stdout",
     "output_type": "stream",
     "text": [
      "chocolate\n"
     ]
    }
   ],
   "source": [
    "print(groceries[-1])"
   ]
  },
  {
   "cell_type": "markdown",
   "metadata": {
    "slideshow": {
     "slide_type": "slide"
    }
   },
   "source": [
    "What is the result of running the code **print(groceries[3])**?\n",
    "<p>\n",
    "a) Error<br>\n",
    "b) Chocolate<br>\n",
    "c) Apples"
   ]
  },
  {
   "cell_type": "code",
   "execution_count": 5,
   "metadata": {
    "slideshow": {
     "slide_type": "subslide"
    }
   },
   "outputs": [
    {
     "ename": "IndexError",
     "evalue": "list index out of range",
     "output_type": "error",
     "traceback": [
      "\u001b[1;31m---------------------------------------------------------------------------\u001b[0m",
      "\u001b[1;31mIndexError\u001b[0m                                Traceback (most recent call last)",
      "\u001b[1;32m<ipython-input-5-87080ad480f6>\u001b[0m in \u001b[0;36m<module>\u001b[1;34m()\u001b[0m\n\u001b[1;32m----> 1\u001b[1;33m \u001b[0mgroceries\u001b[0m\u001b[1;33m[\u001b[0m\u001b[1;36m3\u001b[0m\u001b[1;33m]\u001b[0m\u001b[1;33m\u001b[0m\u001b[0m\n\u001b[0m",
      "\u001b[1;31mIndexError\u001b[0m: list index out of range"
     ]
    }
   ],
   "source": [
    "groceries[3]"
   ]
  },
  {
   "cell_type": "markdown",
   "metadata": {
    "slideshow": {
     "slide_type": "slide"
    }
   },
   "source": [
    "# Getting multiple things from a list"
   ]
  },
  {
   "cell_type": "code",
   "execution_count": 6,
   "metadata": {
    "slideshow": {
     "slide_type": "-"
    }
   },
   "outputs": [
    {
     "data": {
      "text/plain": [
       "['apples', 'blueberries', 'chocolate']"
      ]
     },
     "execution_count": 6,
     "metadata": {},
     "output_type": "execute_result"
    }
   ],
   "source": [
    "groceries"
   ]
  },
  {
   "cell_type": "code",
   "execution_count": 7,
   "metadata": {
    "slideshow": {
     "slide_type": "-"
    }
   },
   "outputs": [
    {
     "name": "stdout",
     "output_type": "stream",
     "text": [
      "['blueberries', 'chocolate']\n",
      "['apples', 'blueberries']\n"
     ]
    }
   ],
   "source": [
    "# go from 1 and stop before 3\n",
    "print(groceries[1:3])\n",
    "print(groceries[0:2])"
   ]
  },
  {
   "cell_type": "markdown",
   "metadata": {
    "slideshow": {
     "slide_type": "slide"
    }
   },
   "source": [
    "Given the following list:"
   ]
  },
  {
   "cell_type": "code",
   "execution_count": 8,
   "metadata": {
    "slideshow": {
     "slide_type": "-"
    }
   },
   "outputs": [
    {
     "data": {
      "text/plain": [
       "['apples', 'blueberries', 'chocolate']"
      ]
     },
     "execution_count": 8,
     "metadata": {},
     "output_type": "execute_result"
    }
   ],
   "source": [
    "groceries"
   ]
  },
  {
   "cell_type": "markdown",
   "metadata": {
    "slideshow": {
     "slide_type": "-"
    }
   },
   "source": [
    "What is the result of `groceries[0:3]`:\n",
    "\n",
    "a) `IndexError`\n",
    "\n",
    "b) `['blueberries', 'chocolate']`\n",
    "\n",
    "c) `['apples', 'blueberries', 'chocolate']`"
   ]
  },
  {
   "cell_type": "code",
   "execution_count": 9,
   "metadata": {
    "slideshow": {
     "slide_type": "subslide"
    }
   },
   "outputs": [
    {
     "data": {
      "text/plain": [
       "['apples', 'blueberries', 'chocolate']"
      ]
     },
     "execution_count": 9,
     "metadata": {},
     "output_type": "execute_result"
    }
   ],
   "source": [
    "groceries[0:3]"
   ]
  },
  {
   "cell_type": "markdown",
   "metadata": {
    "slideshow": {
     "slide_type": "slide"
    }
   },
   "source": [
    "We can change elements of a list:"
   ]
  },
  {
   "cell_type": "code",
   "execution_count": 10,
   "metadata": {
    "slideshow": {
     "slide_type": "-"
    }
   },
   "outputs": [
    {
     "data": {
      "text/plain": [
       "['apples', 'blueberries', 'chocolate']"
      ]
     },
     "execution_count": 10,
     "metadata": {},
     "output_type": "execute_result"
    }
   ],
   "source": [
    "groceries"
   ]
  },
  {
   "cell_type": "code",
   "execution_count": 11,
   "metadata": {
    "slideshow": {
     "slide_type": "-"
    }
   },
   "outputs": [
    {
     "name": "stdout",
     "output_type": "stream",
     "text": [
      "['apples', 'blueberries', 'cranberries']\n"
     ]
    }
   ],
   "source": [
    "groceries[2] = \"cranberries\"\n",
    "print(groceries)"
   ]
  },
  {
   "cell_type": "markdown",
   "metadata": {
    "slideshow": {
     "slide_type": "slide"
    }
   },
   "source": [
    "**`len()`** is a function so you can put stuff into it (in between the parentheses) to get some useful information out. In this case, the total amount of items in the list (also called length of a list):"
   ]
  },
  {
   "cell_type": "code",
   "execution_count": 12,
   "metadata": {
    "slideshow": {
     "slide_type": "-"
    }
   },
   "outputs": [
    {
     "data": {
      "text/plain": [
       "3"
      ]
     },
     "execution_count": 12,
     "metadata": {},
     "output_type": "execute_result"
    }
   ],
   "source": [
    "len(groceries)"
   ]
  },
  {
   "cell_type": "markdown",
   "metadata": {
    "slideshow": {
     "slide_type": "slide"
    }
   },
   "source": [
    "We can do similar things with strings!"
   ]
  },
  {
   "cell_type": "code",
   "execution_count": 13,
   "metadata": {
    "slideshow": {
     "slide_type": "-"
    }
   },
   "outputs": [
    {
     "name": "stdout",
     "output_type": "stream",
     "text": [
      "b\n"
     ]
    }
   ],
   "source": [
    "major = \"biochem\"\n",
    "print(major[0])"
   ]
  },
  {
   "cell_type": "code",
   "execution_count": 14,
   "metadata": {
    "slideshow": {
     "slide_type": "-"
    }
   },
   "outputs": [
    {
     "name": "stdout",
     "output_type": "stream",
     "text": [
      "m\n"
     ]
    }
   ],
   "source": [
    "print(major[-1])"
   ]
  },
  {
   "cell_type": "code",
   "execution_count": 15,
   "metadata": {
    "slideshow": {
     "slide_type": "-"
    }
   },
   "outputs": [
    {
     "data": {
      "text/plain": [
       "7"
      ]
     },
     "execution_count": 15,
     "metadata": {},
     "output_type": "execute_result"
    }
   ],
   "source": [
    "len(major)"
   ]
  },
  {
   "cell_type": "markdown",
   "metadata": {
    "slideshow": {
     "slide_type": "slide"
    }
   },
   "source": [
    "But with strings, you can't change parts of them afterwards:"
   ]
  },
  {
   "cell_type": "code",
   "execution_count": 16,
   "metadata": {
    "scrolled": true,
    "slideshow": {
     "slide_type": "-"
    }
   },
   "outputs": [
    {
     "ename": "TypeError",
     "evalue": "'str' object does not support item assignment",
     "output_type": "error",
     "traceback": [
      "\u001b[1;31m---------------------------------------------------------------------------\u001b[0m",
      "\u001b[1;31mTypeError\u001b[0m                                 Traceback (most recent call last)",
      "\u001b[1;32m<ipython-input-16-67db357d8157>\u001b[0m in \u001b[0;36m<module>\u001b[1;34m()\u001b[0m\n\u001b[1;32m----> 1\u001b[1;33m \u001b[0mmajor\u001b[0m\u001b[1;33m[\u001b[0m\u001b[1;36m3\u001b[0m\u001b[1;33m]\u001b[0m \u001b[1;33m=\u001b[0m \u001b[1;34m't'\u001b[0m\u001b[1;33m\u001b[0m\u001b[0m\n\u001b[0m",
      "\u001b[1;31mTypeError\u001b[0m: 'str' object does not support item assignment"
     ]
    }
   ],
   "source": [
    "major[3] = 't'"
   ]
  },
  {
   "cell_type": "markdown",
   "metadata": {
    "slideshow": {
     "slide_type": "slide"
    }
   },
   "source": [
    "List Operations\n",
    "==============="
   ]
  },
  {
   "cell_type": "markdown",
   "metadata": {
    "slideshow": {
     "slide_type": "-"
    }
   },
   "source": [
    "Things we can do with two or more lists:"
   ]
  },
  {
   "cell_type": "code",
   "execution_count": 17,
   "metadata": {
    "slideshow": {
     "slide_type": "-"
    }
   },
   "outputs": [],
   "source": [
    "drinks = [\"pop\", \"water\", \"juice\"]\n",
    "food = [\"apple\", \"pear\", \"bread\"]"
   ]
  },
  {
   "cell_type": "code",
   "execution_count": 18,
   "metadata": {
    "slideshow": {
     "slide_type": "slide"
    }
   },
   "outputs": [],
   "source": [
    "drinks = [\"pop\", \"water\", \"juice\"]\n",
    "food = [\"apple\", \"pear\", \"bread\"]"
   ]
  },
  {
   "cell_type": "markdown",
   "metadata": {
    "slideshow": {
     "slide_type": "-"
    }
   },
   "source": [
    "Since ` \"apple\" + \"water\" ` gives ` \"applewater\" ` what will ` drinks+food `  do?\n",
    "\n",
    "a) Give an error\n",
    "\n",
    "b) `[\"pop\", \"water\", \"juice\", \"apple\", \"pear\", \"bread\"]`\n",
    "\n",
    "c) `[\"popapple\", \"waterpear\", \"juicebread\"]`"
   ]
  },
  {
   "cell_type": "code",
   "execution_count": 19,
   "metadata": {
    "slideshow": {
     "slide_type": "slide"
    }
   },
   "outputs": [],
   "source": [
    "drinks = [\"pop\", \"water\", \"juice\"]\n",
    "food = [\"apple\", \"pear\", \"bread\"]"
   ]
  },
  {
   "cell_type": "markdown",
   "metadata": {
    "slideshow": {
     "slide_type": "-"
    }
   },
   "source": [
    "Since `\"apple\" * 3` gives `\"appleappleapple\"` what will `drinks * 2` do?\n",
    "\n",
    "a) Give an error\n",
    "\n",
    "b) `[\"poppop\", \"waterwater\", \"juicejuice\"]`\n",
    "\n",
    "c) `[\"pop\", \"water\", \"juice\", \"pop\", \"water\", \"juice\"]`"
   ]
  },
  {
   "cell_type": "markdown",
   "metadata": {
    "slideshow": {
     "slide_type": "slide"
    }
   },
   "source": [
    "Note: we can't subtract lists or strings (we get a `TypeError`)"
   ]
  },
  {
   "cell_type": "code",
   "execution_count": 20,
   "metadata": {
    "slideshow": {
     "slide_type": "-"
    }
   },
   "outputs": [
    {
     "ename": "TypeError",
     "evalue": "unsupported operand type(s) for -: 'list' and 'list'",
     "output_type": "error",
     "traceback": [
      "\u001b[1;31m---------------------------------------------------------------------------\u001b[0m",
      "\u001b[1;31mTypeError\u001b[0m                                 Traceback (most recent call last)",
      "\u001b[1;32m<ipython-input-20-d36cb77699c5>\u001b[0m in \u001b[0;36m<module>\u001b[1;34m()\u001b[0m\n\u001b[1;32m----> 1\u001b[1;33m \u001b[0mdrinks\u001b[0m \u001b[1;33m-\u001b[0m \u001b[0mfood\u001b[0m\u001b[1;33m\u001b[0m\u001b[0m\n\u001b[0m",
      "\u001b[1;31mTypeError\u001b[0m: unsupported operand type(s) for -: 'list' and 'list'"
     ]
    }
   ],
   "source": [
    "drinks - food"
   ]
  },
  {
   "cell_type": "markdown",
   "metadata": {
    "slideshow": {
     "slide_type": "slide"
    }
   },
   "source": [
    "Python finds out the truth: comparisons\n",
    "==============="
   ]
  },
  {
   "cell_type": "code",
   "execution_count": 21,
   "metadata": {
    "slideshow": {
     "slide_type": "-"
    }
   },
   "outputs": [
    {
     "data": {
      "text/plain": [
       "True"
      ]
     },
     "execution_count": 21,
     "metadata": {},
     "output_type": "execute_result"
    }
   ],
   "source": [
    "5 > 3"
   ]
  },
  {
   "cell_type": "code",
   "execution_count": 22,
   "metadata": {
    "slideshow": {
     "slide_type": "-"
    }
   },
   "outputs": [
    {
     "data": {
      "text/plain": [
       "True"
      ]
     },
     "execution_count": 22,
     "metadata": {},
     "output_type": "execute_result"
    }
   ],
   "source": [
    "5 != 2"
   ]
  },
  {
   "cell_type": "code",
   "execution_count": 23,
   "metadata": {
    "slideshow": {
     "slide_type": "-"
    }
   },
   "outputs": [
    {
     "data": {
      "text/plain": [
       "True"
      ]
     },
     "execution_count": 23,
     "metadata": {},
     "output_type": "execute_result"
    }
   ],
   "source": [
    "5 == 5"
   ]
  },
  {
   "cell_type": "code",
   "execution_count": 24,
   "metadata": {
    "slideshow": {
     "slide_type": "-"
    }
   },
   "outputs": [
    {
     "data": {
      "text/plain": [
       "False"
      ]
     },
     "execution_count": 24,
     "metadata": {},
     "output_type": "execute_result"
    }
   ],
   "source": [
    "\"pants\" == \"face\""
   ]
  },
  {
   "cell_type": "code",
   "execution_count": 25,
   "metadata": {
    "slideshow": {
     "slide_type": "slide"
    }
   },
   "outputs": [
    {
     "data": {
      "text/plain": [
       "True"
      ]
     },
     "execution_count": 25,
     "metadata": {},
     "output_type": "execute_result"
    }
   ],
   "source": [
    "(5 == 5)"
   ]
  },
  {
   "cell_type": "code",
   "execution_count": 26,
   "metadata": {
    "slideshow": {
     "slide_type": "-"
    }
   },
   "outputs": [
    {
     "name": "stdout",
     "output_type": "stream",
     "text": [
      "True\n",
      "True\n"
     ]
    },
    {
     "data": {
      "text/plain": [
       "bool"
      ]
     },
     "execution_count": 26,
     "metadata": {},
     "output_type": "execute_result"
    }
   ],
   "source": [
    "res = 5 == 5\n",
    "print(res)\n",
    "res = (5 == 5)\n",
    "print(res)\n",
    "type(res)"
   ]
  },
  {
   "cell_type": "markdown",
   "metadata": {
    "slideshow": {
     "slide_type": "slide"
    }
   },
   "source": [
    "What will be the result of:\n",
    "```python\n",
    "participants = 33\n",
    "print(participants >= 33)\n",
    "```\n",
    "<p>\n",
    "a) True<br>\n",
    "b) False<br>\n",
    "c) Error<br>"
   ]
  },
  {
   "cell_type": "code",
   "execution_count": 27,
   "metadata": {
    "slideshow": {
     "slide_type": "subslide"
    }
   },
   "outputs": [
    {
     "name": "stdout",
     "output_type": "stream",
     "text": [
      "True\n"
     ]
    }
   ],
   "source": [
    "participants = 33\n",
    "print(participants >= 33)"
   ]
  },
  {
   "cell_type": "markdown",
   "metadata": {
    "slideshow": {
     "slide_type": "slide"
    }
   },
   "source": [
    "Combining comparisons\n",
    "===============\n",
    "\n",
    "What if we want to find a number in a range?"
   ]
  },
  {
   "cell_type": "code",
   "execution_count": 28,
   "metadata": {
    "slideshow": {
     "slide_type": "-"
    }
   },
   "outputs": [
    {
     "name": "stdout",
     "output_type": "stream",
     "text": [
      "True\n",
      "True\n",
      "True\n"
     ]
    }
   ],
   "source": [
    "num = 5\n",
    "\n",
    "print(num < 10)\n",
    "print(1 < num)\n",
    "print(1 < num and num < 10)"
   ]
  },
  {
   "cell_type": "markdown",
   "metadata": {
    "slideshow": {
     "slide_type": "slide"
    }
   },
   "source": [
    "What will the statment below return:\n",
    "\n",
    "\n",
    "```python\n",
    "name = \"Ivana\"\n",
    "print(name == \"Ivana\" or name == \"Sean\")\n",
    "```\n",
    "\n",
    "a) False\n",
    "\n",
    "b) True"
   ]
  },
  {
   "cell_type": "markdown",
   "metadata": {
    "slideshow": {
     "slide_type": "slide"
    }
   },
   "source": [
    "Given `not` flips/invert the result, what will the statment below return:\n",
    "\n",
    "```python\n",
    "num = 5\n",
    "print(num > 1 and not num == 5)\n",
    "```\n",
    "\n",
    "a) False\n",
    "\n",
    "b) True"
   ]
  },
  {
   "cell_type": "markdown",
   "metadata": {
    "slideshow": {
     "slide_type": "slide"
    }
   },
   "source": [
    "Python finds out the truth: membership\n",
    "==============="
   ]
  },
  {
   "cell_type": "code",
   "execution_count": 29,
   "metadata": {
    "slideshow": {
     "slide_type": "-"
    }
   },
   "outputs": [
    {
     "data": {
      "text/plain": [
       "True"
      ]
     },
     "execution_count": 29,
     "metadata": {},
     "output_type": "execute_result"
    }
   ],
   "source": [
    "\"a\" in \"face\""
   ]
  },
  {
   "cell_type": "code",
   "execution_count": 30,
   "metadata": {
    "slideshow": {
     "slide_type": "-"
    }
   },
   "outputs": [
    {
     "data": {
      "text/plain": [
       "False"
      ]
     },
     "execution_count": 30,
     "metadata": {},
     "output_type": "execute_result"
    }
   ],
   "source": [
    "\"b\" in \"pants\""
   ]
  },
  {
   "cell_type": "code",
   "execution_count": 31,
   "metadata": {
    "slideshow": {
     "slide_type": "-"
    }
   },
   "outputs": [
    {
     "data": {
      "text/plain": [
       "True"
      ]
     },
     "execution_count": 31,
     "metadata": {},
     "output_type": "execute_result"
    }
   ],
   "source": [
    "\"ice\" in [\"I\", \"scream\", \"for\", \"ice\", \"cream\"] "
   ]
  },
  {
   "cell_type": "markdown",
   "metadata": {
    "slideshow": {
     "slide_type": "slide"
    }
   },
   "source": [
    "What will be the result of:\n",
    "```python\n",
    "\"put\" in \"computer\"\n",
    "```\n",
    "<p>\n",
    "a) True<br>\n",
    "b) False<br>\n",
    "c) Error<br>"
   ]
  },
  {
   "cell_type": "code",
   "execution_count": 32,
   "metadata": {
    "slideshow": {
     "slide_type": "subslide"
    }
   },
   "outputs": [
    {
     "data": {
      "text/plain": [
       "True"
      ]
     },
     "execution_count": 32,
     "metadata": {},
     "output_type": "execute_result"
    }
   ],
   "source": [
    "\"put\" in \"computer\""
   ]
  },
  {
   "cell_type": "markdown",
   "metadata": {
    "slideshow": {
     "slide_type": "slide"
    }
   },
   "source": [
    "Conditions\n",
    "=======\n",
    "\n",
    "Using comparisons to do one thing or another, depending on some condition"
   ]
  },
  {
   "cell_type": "code",
   "execution_count": 33,
   "metadata": {
    "slideshow": {
     "slide_type": "-"
    }
   },
   "outputs": [
    {
     "name": "stdout",
     "output_type": "stream",
     "text": [
      "Go for a walk!\n"
     ]
    }
   ],
   "source": [
    "weather = \"sunny\"\n",
    "# the colon: important!\n",
    "# the indentation: also important!\n",
    "if weather == \"sunny\":\n",
    "    print(\"Go for a walk!\")\n",
    "else:\n",
    "    print(\"Do your work!\")"
   ]
  },
  {
   "cell_type": "markdown",
   "metadata": {
    "slideshow": {
     "slide_type": "slide"
    }
   },
   "source": [
    "You can add more code inside the `weather == \"sunny\"` block and the `else` block, as long as it's indented in the same way."
   ]
  },
  {
   "cell_type": "code",
   "execution_count": 34,
   "metadata": {
    "slideshow": {
     "slide_type": "-"
    }
   },
   "outputs": [
    {
     "name": "stdout",
     "output_type": "stream",
     "text": [
      "Go for a walk!\n",
      "Eat ice cream!\n",
      "Fix the air conditioner!\n"
     ]
    }
   ],
   "source": [
    "weather = \"sunny\"\n",
    "\n",
    "if weather == \"sunny\":\n",
    "    print(\"Go for a walk!\")\n",
    "    print(\"Eat ice cream!\")\n",
    "    print(\"Fix the air conditioner!\")\n",
    "else:\n",
    "    print(\"Do your work!\")"
   ]
  },
  {
   "cell_type": "markdown",
   "metadata": {
    "slideshow": {
     "slide_type": "slide"
    }
   },
   "source": [
    "What will happen if we move `print(\"Eat ice cream!\")` to the end and remove the indentation?\n",
    "\n",
    "```python\n",
    "weather = \"sunny\"\n",
    "\n",
    "if weather == \"sunny\":\n",
    "    print(\"Go for a walk!\")\n",
    "    print(\"Fix the air conditioner!\")\n",
    "else:\n",
    "    print(\"Do your work!\")\n",
    "print(\"Eat ice cream!\")\n",
    "```\n",
    "\n",
    "<p>\n",
    "a) Print out just `Go for a walk!` and `Fix the air conditioner!`<br>\n",
    "b) Print out `Go for a walk!`, `Fix the air conditioner!` and `Eat ice cream!`<br>\n",
    "c) Error<br>"
   ]
  },
  {
   "cell_type": "code",
   "execution_count": 35,
   "metadata": {
    "slideshow": {
     "slide_type": "subslide"
    }
   },
   "outputs": [
    {
     "name": "stdout",
     "output_type": "stream",
     "text": [
      "Go for a walk!\n",
      "Fix the air conditioner!\n",
      "Eat ice cream!\n"
     ]
    }
   ],
   "source": [
    "weather = \"sunny\"\n",
    "\n",
    "if weather == \"sunny\":\n",
    "    print(\"Go for a walk!\")\n",
    "    print(\"Fix the air conditioner!\")\n",
    "else:\n",
    "    print(\"Do your work!\")\n",
    "print(\"Eat ice cream!\")"
   ]
  },
  {
   "cell_type": "markdown",
   "metadata": {
    "slideshow": {
     "slide_type": "-"
    }
   },
   "source": [
    "And now we always get the message about ice cream, whether the weather is `sunny` or `rainy`."
   ]
  },
  {
   "cell_type": "markdown",
   "metadata": {
    "slideshow": {
     "slide_type": "slide"
    }
   },
   "source": [
    "It turns out that the `else` block is optional."
   ]
  },
  {
   "cell_type": "code",
   "execution_count": 36,
   "metadata": {
    "slideshow": {
     "slide_type": "-"
    }
   },
   "outputs": [
    {
     "name": "stdout",
     "output_type": "stream",
     "text": [
      "Eat ice cream!\n"
     ]
    }
   ],
   "source": [
    "weather = \"rainy\"\n",
    "\n",
    "if weather == \"sunny\":\n",
    "    print(\"Go for a walk!\")\n",
    "    print(\"Fix the air conditioner!\")\n",
    "    \n",
    "print(\"Eat ice cream!\")"
   ]
  },
  {
   "cell_type": "markdown",
   "metadata": {
    "slideshow": {
     "slide_type": "slide"
    }
   },
   "source": [
    "What if you want to go for a walk when it is either sunny or cloudy?"
   ]
  },
  {
   "cell_type": "code",
   "execution_count": 37,
   "metadata": {
    "slideshow": {
     "slide_type": "fragment"
    }
   },
   "outputs": [
    {
     "name": "stdout",
     "output_type": "stream",
     "text": [
      "Go for a walk!\n"
     ]
    }
   ],
   "source": [
    "weather = \"sunny\"\n",
    "if weather == \"sunny\" or weather == \"cloudy\":\n",
    "    print(\"Go for a walk!\")\n",
    "else:\n",
    "    print(\"Do your work!\")"
   ]
  },
  {
   "cell_type": "markdown",
   "metadata": {
    "slideshow": {
     "slide_type": "slide"
    }
   },
   "source": [
    "What if your only day off is Saturday?"
   ]
  },
  {
   "cell_type": "code",
   "execution_count": 38,
   "metadata": {
    "slideshow": {
     "slide_type": "fragment"
    }
   },
   "outputs": [
    {
     "name": "stdout",
     "output_type": "stream",
     "text": [
      "Go for a walk!\n"
     ]
    }
   ],
   "source": [
    "weather = \"sunny\"\n",
    "today = \"Saturday\"\n",
    "if weather == \"sunny\" and today == \"Saturday\":\n",
    "    print(\"Go for a walk!\")\n",
    "else:\n",
    "    print(\"Do your work!\")"
   ]
  },
  {
   "cell_type": "markdown",
   "metadata": {
    "slideshow": {
     "slide_type": "slide"
    }
   },
   "source": [
    "What if there are a few kinds of weather where you can take a walk?"
   ]
  },
  {
   "cell_type": "code",
   "execution_count": 39,
   "metadata": {
    "slideshow": {
     "slide_type": "fragment"
    }
   },
   "outputs": [
    {
     "name": "stdout",
     "output_type": "stream",
     "text": [
      "Go for a walk!\n"
     ]
    }
   ],
   "source": [
    "weather = \"snowy\"\n",
    "decent_weather = [\"sunny\", \"cloudy\", \"snowy\"]\n",
    "if weather in decent_weather:\n",
    "    print(\"Go for a walk!\")\n",
    "else:\n",
    "    print(\"Do your work!\")"
   ]
  },
  {
   "cell_type": "markdown",
   "metadata": {
    "slideshow": {
     "slide_type": "slide"
    }
   },
   "source": [
    "Talking to People\n",
    "================="
   ]
  },
  {
   "cell_type": "code",
   "execution_count": 40,
   "metadata": {
    "slideshow": {
     "slide_type": "-"
    }
   },
   "outputs": [
    {
     "name": "stdout",
     "output_type": "stream",
     "text": [
      "What's your name? Ryan\n",
      "Hello Ryan\n"
     ]
    }
   ],
   "source": [
    "name = input(\"What's your name? \")\n",
    "print(\"Hello \" + name)"
   ]
  },
  {
   "cell_type": "markdown",
   "metadata": {
    "slideshow": {
     "slide_type": "slide"
    }
   },
   "source": [
    "How would you find what kind of data type is returned by **input**?"
   ]
  },
  {
   "cell_type": "code",
   "execution_count": 41,
   "metadata": {
    "slideshow": {
     "slide_type": "fragment"
    }
   },
   "outputs": [
    {
     "data": {
      "text/plain": [
       "str"
      ]
     },
     "execution_count": 41,
     "metadata": {},
     "output_type": "execute_result"
    }
   ],
   "source": [
    "type(name)"
   ]
  },
  {
   "cell_type": "markdown",
   "metadata": {
    "slideshow": {
     "slide_type": "slide"
    }
   },
   "source": [
    "Why doesn't the following code work? And how can we fix it?"
   ]
  },
  {
   "cell_type": "code",
   "execution_count": 42,
   "metadata": {
    "slideshow": {
     "slide_type": "-"
    }
   },
   "outputs": [
    {
     "name": "stdout",
     "output_type": "stream",
     "text": [
      "How old are you? 2\n"
     ]
    },
    {
     "ename": "TypeError",
     "evalue": "must be str, not int",
     "output_type": "error",
     "traceback": [
      "\u001b[1;31m---------------------------------------------------------------------------\u001b[0m",
      "\u001b[1;31mTypeError\u001b[0m                                 Traceback (most recent call last)",
      "\u001b[1;32m<ipython-input-42-e3b7d5a83e38>\u001b[0m in \u001b[0;36m<module>\u001b[1;34m()\u001b[0m\n\u001b[0;32m      1\u001b[0m \u001b[0mage\u001b[0m \u001b[1;33m=\u001b[0m \u001b[0minput\u001b[0m\u001b[1;33m(\u001b[0m\u001b[1;34m\"How old are you? \"\u001b[0m\u001b[1;33m)\u001b[0m\u001b[1;33m\u001b[0m\u001b[0m\n\u001b[1;32m----> 2\u001b[1;33m \u001b[0mprint\u001b[0m\u001b[1;33m(\u001b[0m\u001b[0mage\u001b[0m \u001b[1;33m+\u001b[0m \u001b[1;36m7\u001b[0m\u001b[1;33m)\u001b[0m\u001b[1;33m\u001b[0m\u001b[0m\n\u001b[0m",
      "\u001b[1;31mTypeError\u001b[0m: must be str, not int"
     ]
    }
   ],
   "source": [
    "age = input(\"How old are you? \")\n",
    "print(age + 7)"
   ]
  },
  {
   "cell_type": "markdown",
   "metadata": {
    "slideshow": {
     "slide_type": "slide"
    }
   },
   "source": [
    "## Mini-exercise: middle letter\n",
    "\n",
    "Ask the user for a word, then print out the middle letter from that word.\n",
    "\n",
    "For instance,\n",
    "```\n",
    "Enter a word: racecar\n",
    "The middle letter is e\n",
    "```\n",
    "\n",
    "For a word with an even number of letters, either of the middle 2 is fine.\n",
    "\n",
    "Hint: to round down from a `float` like `1.4` to an `int` like `1`, we can do `int(1.4)`."
   ]
  },
  {
   "cell_type": "markdown",
   "metadata": {
    "slideshow": {
     "slide_type": "slide"
    }
   },
   "source": [
    "## Solution"
   ]
  },
  {
   "cell_type": "code",
   "execution_count": 43,
   "metadata": {
    "slideshow": {
     "slide_type": "-"
    }
   },
   "outputs": [
    {
     "name": "stdout",
     "output_type": "stream",
     "text": [
      "Enter a word: racecar\n",
      "The middle letter is e\n"
     ]
    }
   ],
   "source": [
    "word = input(\"Enter a word: \")\n",
    "middle_index = int(len(word) / 2)\n",
    "print(\"The middle letter is\", word[middle_index])"
   ]
  },
  {
   "cell_type": "markdown",
   "metadata": {
    "slideshow": {
     "slide_type": "slide"
    }
   },
   "source": [
    "Example: Online shopping cart\n",
    "===============\n",
    "\n",
    "This program asks a person what their subtotal is, and gives them free shipping if they order more than $50."
   ]
  },
  {
   "cell_type": "code",
   "execution_count": 44,
   "metadata": {
    "slideshow": {
     "slide_type": "-"
    }
   },
   "outputs": [
    {
     "name": "stdout",
     "output_type": "stream",
     "text": [
      "Enter your subtotal: $56\n",
      "Shipping cost: $0\n",
      "Your total comes to: $56.0\n"
     ]
    }
   ],
   "source": [
    "user_input = input(\"Enter your subtotal: $\")\n",
    "subtotal = float(user_input)\n",
    "\n",
    "if subtotal >= 50:\n",
    "    shipping = 0\n",
    "else:\n",
    "    shipping = 15\n",
    "    \n",
    "print(\"Shipping cost: $\" + str(shipping))    \n",
    "\n",
    "total = subtotal + shipping\n",
    "\n",
    "print(\"Your total comes to: $\" + str(total))"
   ]
  },
  {
   "cell_type": "markdown",
   "metadata": {
    "slideshow": {
     "slide_type": "slide"
    }
   },
   "source": [
    "## Mini-exercise: Coupon codes\n",
    "\n",
    "Modify the shopping cart so that it asks the user if they have a coupon.\n",
    "\n",
    "If they enter SAVE10, it should take 10% off of their subtotal.\n",
    "\n",
    "```\n",
    "Enter your subtotal: $60\n",
    "Enter a coupon code (or leave blank to skip): SAVE10\n",
    "Coupon discount: $6.0\n",
    "Shipping cost: $0\n",
    "Your total comes to: $54.0\n",
    "```\n",
    "\n",
    "If they don't, the program works like before.\n",
    "```\n",
    "Enter your subtotal: $60\n",
    "Enter a coupon code (or leave blank to skip): \n",
    "Shipping cost: $0\n",
    "Your total comes to: $60.0\n",
    "```"
   ]
  },
  {
   "cell_type": "markdown",
   "metadata": {
    "slideshow": {
     "slide_type": "slide"
    }
   },
   "source": [
    "Exercise: Pizzeria\n",
    "===============\n",
    "\n",
    "A person puts in the number of slices they want, and how much money they have. A slice of pizza costs $1.50, and the program calculates the total cost of the slices. If the person doesn't have enough money, they must try again. If they do have enough money, their change is calculated.\n",
    "\n",
    "Here are the lines of code you'll need. Put them in the right order **and with the right indentation!**\n",
    "<p>\n",
    "-------\n",
    "```python\n",
    "slices = int(slices_input)\n",
    "```\n",
    "-------\n",
    "```python\n",
    "print(\"Here is your change:\", change)\n",
    "```\n",
    "-------\n",
    "```python\n",
    "slices_input = input(\"Enter how many slices of pizza you want:\")\n",
    "```\n",
    "-------\n",
    "```python\n",
    "if total_cost > money:\n",
    "```\n",
    "-------\n",
    "```python\n",
    "else:\n",
    "```\n",
    "-------\n",
    "```python\n",
    "print(\"You do not have enough money to buy this much pizza!\")\n",
    "```\n",
    "-------\n",
    "```python\n",
    "total_cost = slices * 1.5\n",
    "```\n",
    "-------\n",
    "```python\n",
    "money_input = input(\"Enter how many dollars you have: \")\n",
    "```\n",
    "-------\n",
    "```python\n",
    "money = int(money_input)\n",
    "```\n",
    "-------\n",
    "```python\n",
    "change = money - total_cost\n",
    "```\n",
    "-------\n"
   ]
  },
  {
   "cell_type": "code",
   "execution_count": 45,
   "metadata": {
    "slideshow": {
     "slide_type": "slide"
    }
   },
   "outputs": [
    {
     "name": "stdout",
     "output_type": "stream",
     "text": [
      "Enter how many slices of pizza you want: 12\n",
      "Enter how many dollars you have: 30\n",
      "Here is your change: 12.0\n"
     ]
    }
   ],
   "source": [
    "slices_input = input(\"Enter how many slices of pizza you want: \")\n",
    "money_input = input(\"Enter how many dollars you have: \")\n",
    "slices = int(slices_input)\n",
    "money = int(money_input)\n",
    "total_cost = slices * 1.5\n",
    "if total_cost > money:\n",
    "    print(\"You do not have enough money to buy this much pizza!\")\n",
    "else:\n",
    "    change = money - total_cost\n",
    "    print(\"Here is your change:\", change)"
   ]
  },
  {
   "cell_type": "markdown",
   "metadata": {
    "slideshow": {
     "slide_type": "slide"
    }
   },
   "source": [
    "Repeating actions\n",
    "==========\n",
    "\n",
    "Problem: we want to do something a certain number of times or we want to do something to each element of a list"
   ]
  },
  {
   "cell_type": "code",
   "execution_count": 46,
   "metadata": {
    "slideshow": {
     "slide_type": "-"
    }
   },
   "outputs": [],
   "source": [
    "names = [\"Alan\", \"Irish\", \"Ryan\", \"Sajed\", \"Stacy\"]"
   ]
  },
  {
   "cell_type": "code",
   "execution_count": 47,
   "metadata": {
    "slideshow": {
     "slide_type": "-"
    }
   },
   "outputs": [
    {
     "name": "stdout",
     "output_type": "stream",
     "text": [
      "Hi five Alan\n",
      "Hi five Irish\n",
      "Hi five Ryan\n",
      "Hi five Sajed\n",
      "Hi five Stacy\n"
     ]
    }
   ],
   "source": [
    "print(\"Hi five \" + names[0])\n",
    "print(\"Hi five \" + names[1])\n",
    "print(\"Hi five \" + names[2])\n",
    "print(\"Hi five \" + names[3])\n",
    "print(\"Hi five \" + names[4])"
   ]
  },
  {
   "cell_type": "markdown",
   "metadata": {
    "slideshow": {
     "slide_type": "-"
    }
   },
   "source": [
    "But this is very repetitive and boring. Is there a more efficient way to do this?"
   ]
  },
  {
   "cell_type": "markdown",
   "metadata": {
    "slideshow": {
     "slide_type": "slide"
    }
   },
   "source": [
    "There is! We can use a **for loop**:"
   ]
  },
  {
   "cell_type": "code",
   "execution_count": 48,
   "metadata": {
    "slideshow": {
     "slide_type": "-"
    }
   },
   "outputs": [
    {
     "data": {
      "text/plain": [
       "['Alan', 'Irish', 'Ryan', 'Sajed', 'Stacy']"
      ]
     },
     "execution_count": 48,
     "metadata": {},
     "output_type": "execute_result"
    }
   ],
   "source": [
    "names"
   ]
  },
  {
   "cell_type": "code",
   "execution_count": 49,
   "metadata": {
    "slideshow": {
     "slide_type": "-"
    }
   },
   "outputs": [
    {
     "name": "stdout",
     "output_type": "stream",
     "text": [
      "Hi five Alan\n",
      "Hi five Irish\n",
      "Hi five Ryan\n",
      "Hi five Sajed\n",
      "Hi five Stacy\n"
     ]
    }
   ],
   "source": [
    "for name in names:\n",
    "    print(\"Hi five \" + name)"
   ]
  },
  {
   "cell_type": "markdown",
   "metadata": {
    "slideshow": {
     "slide_type": "slide"
    }
   },
   "source": [
    "Let's take a closer look at how for loops work.\n",
    "\n",
    "<img src=\"./files/for_loop.png\" width=\"800\" alt=\"for loop\">"
   ]
  },
  {
   "cell_type": "markdown",
   "metadata": {
    "slideshow": {
     "slide_type": "slide"
    }
   },
   "source": [
    "So we just saw that we have these two programs that do the same thing, with and without a loop. We converted from a long form into a short, loopy form:\n",
    "\n",
    "```python\n",
    "print(\"Hi five \" + names[0])\n",
    "print(\"Hi five \" + names[1])\n",
    "...\n",
    "```\n",
    "\n",
    "to\n",
    "\n",
    "```python\n",
    "for name in names:\n",
    "    print(\"Hi five \" + name)\n",
    "```"
   ]
  },
  {
   "cell_type": "markdown",
   "metadata": {
    "slideshow": {
     "slide_type": "slide"
    }
   },
   "source": [
    "As a little exercise, let's look at a different program and try going backwards, starting in loop form and going to long form."
   ]
  },
  {
   "cell_type": "code",
   "execution_count": 50,
   "metadata": {
    "slideshow": {
     "slide_type": "fragment"
    }
   },
   "outputs": [
    {
     "name": "stdout",
     "output_type": "stream",
     "text": [
      "11\n",
      "12\n",
      "13\n",
      "14\n"
     ]
    }
   ],
   "source": [
    "# let's convert this from loopy form to long form\n",
    "numbers = [1, 2, 3, 4]\n",
    "for x in numbers:\n",
    "    print(x + 10)"
   ]
  },
  {
   "cell_type": "markdown",
   "metadata": {
    "slideshow": {
     "slide_type": "slide"
    }
   },
   "source": [
    "In long form, this might look something like..."
   ]
  },
  {
   "cell_type": "code",
   "execution_count": 51,
   "metadata": {
    "slideshow": {
     "slide_type": "fragment"
    }
   },
   "outputs": [
    {
     "name": "stdout",
     "output_type": "stream",
     "text": [
      "11\n",
      "12\n",
      "13\n",
      "14\n"
     ]
    }
   ],
   "source": [
    "numbers = [1, 2, 3, 4]\n",
    "print(numbers[0] + 10)\n",
    "print(numbers[1] + 10)\n",
    "print(numbers[2] + 10)\n",
    "print(numbers[3] + 10)"
   ]
  },
  {
   "cell_type": "markdown",
   "metadata": {
    "slideshow": {
     "slide_type": "slide"
    }
   },
   "source": [
    "Which form is \"better\": long form, or loopy form?\n",
    "\n",
    "The result is the same either way, so maybe they're equivalent."
   ]
  },
  {
   "cell_type": "markdown",
   "metadata": {
    "slideshow": {
     "slide_type": "fragment"
    }
   },
   "source": [
    "But you might find that loops are a bit more flexible.\n",
    "\n",
    "What if we wanted to change the number of things in the collection `numbers`?"
   ]
  },
  {
   "cell_type": "markdown",
   "metadata": {
    "slideshow": {
     "slide_type": "fragment"
    }
   },
   "source": [
    "```python\n",
    "numbers = [1, 2, 3]\n",
    "\n",
    "print(numbers[0] + 10)\n",
    "print(numbers[1] + 10)\n",
    "print(numbers[2] + 10)\n",
    "print(numbers[3] + 10) # error\n",
    "```\n",
    "\n",
    "vs.\n",
    "\n",
    "```python\n",
    "numbers = [1, 2, 3]\n",
    "for x in numbers:\n",
    "    print(x + 10)\n",
    "```\n",
    "\n",
    "Long form errors out, but loop form works fine. The loop knows how many times it needs to run.\n",
    "\n",
    "What about setting `numbers = [1, 2, 3, 4, 5]`?"
   ]
  },
  {
   "cell_type": "markdown",
   "metadata": {
    "slideshow": {
     "slide_type": "slide"
    }
   },
   "source": [
    "What would happen if we tried to loop over a single string instead of a list?\n",
    "\n",
    "```python\n",
    "pet1 = \"kitty\"\n",
    "for char in pet1:\n",
    "    print(char)\n",
    "```\n",
    "\n",
    "<p>\n",
    "a) Print out the letters `k`, `i`, `t`, `t`, `y`, one per line<br>\n",
    "b) Print out just `kitty`<br>\n",
    "c) Error<br>"
   ]
  },
  {
   "cell_type": "markdown",
   "metadata": {
    "slideshow": {
     "slide_type": "slide"
    }
   },
   "source": [
    "Strings are kinda like a list of characters, so the for loop takes them one at a time."
   ]
  },
  {
   "cell_type": "code",
   "execution_count": 52,
   "metadata": {
    "slideshow": {
     "slide_type": "-"
    }
   },
   "outputs": [
    {
     "name": "stdout",
     "output_type": "stream",
     "text": [
      "k\n",
      "i\n",
      "t\n",
      "t\n",
      "y\n"
     ]
    }
   ],
   "source": [
    "pet1 = \"kitty\"\n",
    "for char in pet1:\n",
    "    print(char)"
   ]
  },
  {
   "cell_type": "markdown",
   "metadata": {
    "slideshow": {
     "slide_type": "fragment"
    }
   },
   "source": [
    "Check out this similar word."
   ]
  },
  {
   "cell_type": "code",
   "execution_count": 53,
   "metadata": {
    "slideshow": {
     "slide_type": "-"
    }
   },
   "outputs": [
    {
     "name": "stdout",
     "output_type": "stream",
     "text": [
      "d\n",
      "o\n",
      "g\n",
      "g\n",
      "y\n"
     ]
    }
   ],
   "source": [
    "pet2 = \"doggy\"\n",
    "for char in pet2:\n",
    "    print(char)"
   ]
  },
  {
   "cell_type": "markdown",
   "metadata": {
    "slideshow": {
     "slide_type": "slide"
    }
   },
   "source": [
    "It kind of prints the word in a column. What if we wanted to print the two words together, in columns side-by-side?\n",
    "\n",
    "```\n",
    "\n",
    "k d\n",
    "i o\n",
    "t g\n",
    "t g\n",
    "y y\n",
    "```"
   ]
  },
  {
   "cell_type": "markdown",
   "metadata": {
    "slideshow": {
     "slide_type": "slide"
    }
   },
   "source": [
    "Let's start by writing the program in long form:"
   ]
  },
  {
   "cell_type": "code",
   "execution_count": 54,
   "metadata": {
    "slideshow": {
     "slide_type": "-"
    }
   },
   "outputs": [
    {
     "name": "stdout",
     "output_type": "stream",
     "text": [
      "k d\n",
      "i o\n",
      "t g\n",
      "t g\n",
      "y y\n"
     ]
    }
   ],
   "source": [
    "pet1 = \"kitty\"\n",
    "pet2 = \"doggy\"\n",
    "\n",
    "print(pet1[0], pet2[0])\n",
    "print(pet1[1], pet2[1])\n",
    "print(pet1[2], pet2[2])\n",
    "print(pet1[3], pet2[3])\n",
    "print(pet1[4], pet2[4])"
   ]
  },
  {
   "cell_type": "markdown",
   "metadata": {
    "slideshow": {
     "slide_type": "fragment"
    }
   },
   "source": [
    "## Tough Exercise:\n",
    "\n",
    "Convert the above into loop form.\n",
    "\n",
    "Here's a start:\n",
    "\n",
    "```\n",
    "pet1 = \"kitty\"\n",
    "pet2 = \"doggy\"\n",
    "\n",
    "for x in BLANKBLANKBLANK:\n",
    "    print(BLANKETYBLANK)\n",
    "```\n",
    "\n",
    "There is a hint on the subslide if you have trouble starting."
   ]
  },
  {
   "cell_type": "markdown",
   "metadata": {
    "slideshow": {
     "slide_type": "subslide"
    }
   },
   "source": [
    "Hint:\n",
    "\n",
    "If you wanted to make a loop that prints off\n",
    "```\n",
    "0\n",
    "1\n",
    "2\n",
    "3\n",
    "4\n",
    "```\n",
    "how would you do that?\n",
    "\n",
    "Instead of printing the number itself, is there something more useful we could do with it?"
   ]
  },
  {
   "cell_type": "markdown",
   "metadata": {
    "slideshow": {
     "slide_type": "slide"
    }
   },
   "source": [
    "## Solution"
   ]
  },
  {
   "cell_type": "markdown",
   "metadata": {
    "slideshow": {
     "slide_type": "fragment"
    }
   },
   "source": [
    "You may have come up with this solution:"
   ]
  },
  {
   "cell_type": "code",
   "execution_count": 55,
   "metadata": {
    "slideshow": {
     "slide_type": "-"
    }
   },
   "outputs": [
    {
     "name": "stdout",
     "output_type": "stream",
     "text": [
      "k d\n",
      "i o\n",
      "t g\n",
      "t g\n",
      "y y\n"
     ]
    }
   ],
   "source": [
    "pet1 = \"kitty\"\n",
    "pet2 = \"doggy\"\n",
    "\n",
    "for x in [0, 1, 2, 3, 4]:\n",
    "    print(pet1[x], pet2[x])"
   ]
  },
  {
   "cell_type": "markdown",
   "metadata": {
    "slideshow": {
     "slide_type": "slide"
    }
   },
   "source": [
    "It might look a bit abstract, but it works!\n",
    "\n",
    "But if we change the words to something longer or shorter, `[0, 1, 2, 3, 4]` might not cut it.\n",
    "\n",
    "Luckily, Python has a built-in function to make this list of numbers: `range()`. Let's try it out:"
   ]
  },
  {
   "cell_type": "code",
   "execution_count": 56,
   "metadata": {
    "slideshow": {
     "slide_type": "-"
    }
   },
   "outputs": [
    {
     "name": "stdout",
     "output_type": "stream",
     "text": [
      "0\n",
      "1\n",
      "2\n"
     ]
    }
   ],
   "source": [
    "for x in range(3):\n",
    "    print(x)"
   ]
  },
  {
   "cell_type": "markdown",
   "metadata": {
    "slideshow": {
     "slide_type": "fragment"
    }
   },
   "source": [
    "So, for kitty/doggy, we'd use `range(5)`."
   ]
  },
  {
   "cell_type": "markdown",
   "metadata": {
    "slideshow": {
     "slide_type": "slide"
    }
   },
   "source": [
    "## Mini-Exercise\n",
    "\n",
    "Fill in the BLANK so that this works for any pair of words of the same length:\n",
    "\n",
    "```python\n",
    "pet1 = \"cat\"\n",
    "pet2 = \"dog\"\n",
    "\n",
    "# or\n",
    "# pet1 = \"kitty\"\n",
    "# pet2 = \"doggy\"\n",
    "\n",
    "for x in range(BLANK):\n",
    "    print(pet1[x], pet2[x])\n",
    "```"
   ]
  },
  {
   "cell_type": "markdown",
   "metadata": {
    "slideshow": {
     "slide_type": "slide"
    }
   },
   "source": [
    "We use the `len` function to do this, since it counts the number of letters in a word."
   ]
  },
  {
   "cell_type": "code",
   "execution_count": 57,
   "metadata": {
    "slideshow": {
     "slide_type": "-"
    }
   },
   "outputs": [
    {
     "name": "stdout",
     "output_type": "stream",
     "text": [
      "c d\n",
      "a o\n",
      "t g\n"
     ]
    }
   ],
   "source": [
    "pet1 = \"cat\"\n",
    "pet2 = \"dog\"\n",
    "\n",
    "# or\n",
    "# pet1 = \"kitty\"\n",
    "# pet2 = \"doggy\"\n",
    "\n",
    "for x in range(len(pet1)):\n",
    "    print(pet1[x], pet2[x])"
   ]
  },
  {
   "cell_type": "markdown",
   "metadata": {
    "slideshow": {
     "slide_type": "slide"
    }
   },
   "source": [
    "## Exercise: counting vowels\n",
    "\n",
    "A person enters a word. The program checks each letter and tallies up the number of vowels it sees, printing out the final count.\n",
    "\n",
    "Here are the lines of code you'll need. Put them in the right order **and with the right indentation!**\n",
    "<p>\n",
    "-------\n",
    "```python\n",
    "if character in vowels:\n",
    "```\n",
    "-------\n",
    "```python\n",
    "print(word, \"has\", total, \"vowels.\")\n",
    "```\n",
    "-------\n",
    "```python\n",
    "vowels = \"aeiou\"\n",
    "```\n",
    "-------\n",
    "```python\n",
    "total += 1\n",
    "```\n",
    "-------\n",
    "```python\n",
    "word = input(\"Enter a word: \")\n",
    "```\n",
    "-------\n",
    "```python\n",
    "for character in word:\n",
    "```\n",
    "-------\n",
    "```python\n",
    "total = 0\n",
    "```\n",
    "-------"
   ]
  },
  {
   "cell_type": "code",
   "execution_count": 58,
   "metadata": {
    "slideshow": {
     "slide_type": "slide"
    }
   },
   "outputs": [
    {
     "name": "stdout",
     "output_type": "stream",
     "text": [
      "Enter a word: telepathy\n",
      "telepathy has 3 vowels.\n"
     ]
    }
   ],
   "source": [
    "word = input(\"Enter a word: \")\n",
    "\n",
    "vowels = \"aeiou\"\n",
    "\n",
    "total = 0\n",
    "for character in word:\n",
    "    if character in vowels:\n",
    "        total += 1\n",
    "        \n",
    "print(word, \"has\", total, \"vowels.\")"
   ]
  },
  {
   "cell_type": "markdown",
   "metadata": {
    "slideshow": {
     "slide_type": "slide"
    }
   },
   "source": [
    "Exercise: Processing Grades\n",
    "===============\n",
    "\n",
    "Given a list of grades, `grades = [81, 70, 60, 91]`, print the average and the number of grades above 80.\n",
    "In this case:\n",
    "```\n",
    "Average 75.5\n",
    "Number of good grades 2\n",
    "```\n"
   ]
  },
  {
   "cell_type": "markdown",
   "metadata": {
    "slideshow": {
     "slide_type": "subslide"
    }
   },
   "source": [
    "**Hint:** Start by thinking about how to calculate the average grade.\n",
    "\n",
    "Get this working first!"
   ]
  },
  {
   "cell_type": "markdown",
   "metadata": {
    "slideshow": {
     "slide_type": "subslide"
    }
   },
   "source": [
    "**Hint:** Then think about how to count the number of grades above 80"
   ]
  },
  {
   "cell_type": "code",
   "execution_count": 59,
   "metadata": {
    "slideshow": {
     "slide_type": "slide"
    }
   },
   "outputs": [
    {
     "name": "stdout",
     "output_type": "stream",
     "text": [
      "WOW! 81\n",
      "WOW! 91\n",
      "Average 75.5\n",
      "Number of good grades 2\n"
     ]
    }
   ],
   "source": [
    "# Python is great for data processing\n",
    "grades = [81, 70, 60, 91]\n",
    "good_grades = 0\n",
    "avg = 0\n",
    "for grade in grades:\n",
    "    if grade >= 80:\n",
    "        print(\"WOW! \" + str(grade))\n",
    "        good_grades = good_grades + 1\n",
    "    avg = avg + grade\n",
    "avg = avg/len(grades)\n",
    "print(\"Average \" + str(avg))\n",
    "print(\"Number of good grades \" + str(good_grades))"
   ]
  },
  {
   "cell_type": "markdown",
   "metadata": {
    "slideshow": {
     "slide_type": "slide"
    }
   },
   "source": [
    "## Project Day 1\n",
    "\n",
    "Link:\n",
    "\n",
    "https://github.com/uwpyb/materials/blob/master/projects/Day1_Quiz.ipynb"
   ]
  }
 ],
 "metadata": {
  "celltoolbar": "Slideshow",
  "kernelspec": {
   "display_name": "Python 3",
   "language": "python",
   "name": "python3"
  },
  "language_info": {
   "codemirror_mode": {
    "name": "ipython",
    "version": 3
   },
   "file_extension": ".py",
   "mimetype": "text/x-python",
   "name": "python",
   "nbconvert_exporter": "python",
   "pygments_lexer": "ipython3",
   "version": "3.6.2"
  }
 },
 "nbformat": 4,
 "nbformat_minor": 2
}
