{
 "cells": [
  {
   "cell_type": "markdown",
   "metadata": {
    "slideshow": {
     "slide_type": "slide"
    }
   },
   "source": [
    "# Programming Workshop for Beginners\n",
    "### Day 1: Laying the foundation\n",
    "### Saturday, Nov 17, 2017\n",
    "### University of Waterloo\n",
    "<img src=\"./files/foundation.jpg\" width=\"300\" >"
   ]
  },
  {
   "cell_type": "markdown",
   "metadata": {
    "slideshow": {
     "slide_type": "slide"
    }
   },
   "source": [
    "# Review from yesterday\n",
    "\n",
    "1. Data Types (`string`, `int`, `float`)\n",
    "\n",
    "2. Putting data into `variables`\n",
    "\n",
    "2. Simple data operations and manipulation"
   ]
  },
  {
   "cell_type": "markdown",
   "metadata": {
    "slideshow": {
     "slide_type": "slide"
    }
   },
   "source": [
    "## Schedule\n",
    "\n",
    "```\n",
    "10:00 - 11:00: Work\n",
    "11:00 - 11:10: Break\n",
    "11:10 - 12:15: Work\n",
    "\n",
    "12:15 - 13:00: Lunch\n",
    "13:00 - 16:00: Work & Project\n",
    "```\n",
    "\n",
    "\n"
   ]
  },
  {
   "cell_type": "markdown",
   "metadata": {
    "slideshow": {
     "slide_type": "slide"
    }
   },
   "source": [
    "Welcome to Day 1\n",
    "=========\n",
    "\n",
    "**Here's what we're going to cover today:**\n",
    "1. Lists\n",
    "2. Conditions \n",
    "3. Talking to the user using **`input()`**\n",
    "4. Repeating steps with for loops"
   ]
  },
  {
   "cell_type": "markdown",
   "metadata": {
    "slideshow": {
     "slide_type": "slide"
    }
   },
   "source": [
    "Slides available online at:\n",
    "- `http://uwpyb.github.io/materials/lectures/day_1.slides.html#/`\n",
    "\n",
    "Or if you want a shorter URL:\n",
    "- `http://goo.gl/7GtZqx`"
   ]
  },
  {
   "cell_type": "markdown",
   "metadata": {
    "slideshow": {
     "slide_type": "slide"
    }
   },
   "source": [
    "Lists: shelves full of items\n",
    "=======================\n",
    "<img src=\"./files/shelves.jpg\" width=\"400\" >"
   ]
  },
  {
   "cell_type": "markdown",
   "metadata": {
    "slideshow": {
     "slide_type": "slide"
    }
   },
   "source": [
    "# Building a list"
   ]
  },
  {
   "cell_type": "code",
   "execution_count": 1,
   "metadata": {
    "slideshow": {
     "slide_type": "-"
    }
   },
   "outputs": [
    {
     "name": "stdout",
     "output_type": "stream",
     "text": [
      "['apples', 'blueberries', 'chocolate']\n"
     ]
    },
    {
     "data": {
      "text/plain": [
       "list"
      ]
     },
     "execution_count": 1,
     "metadata": {},
     "output_type": "execute_result"
    }
   ],
   "source": [
    "groceries = [\"apples\", \"blueberries\", \"chocolate\"]\n",
    "print(groceries)\n",
    "type(groceries)"
   ]
  },
  {
   "cell_type": "markdown",
   "metadata": {
    "slideshow": {
     "slide_type": "slide"
    }
   },
   "source": [
    "# Getting a single thing from lists using an `index`"
   ]
  },
  {
   "cell_type": "code",
   "execution_count": 3,
   "metadata": {},
   "outputs": [
    {
     "name": "stdout",
     "output_type": "stream",
     "text": [
      "apples\n"
     ]
    }
   ],
   "source": [
    "# 0 is the index\n",
    "print(groceries[0])"
   ]
  },
  {
   "cell_type": "code",
   "execution_count": 4,
   "metadata": {},
   "outputs": [
    {
     "name": "stdout",
     "output_type": "stream",
     "text": [
      "chocolate\n"
     ]
    }
   ],
   "source": [
    "print(groceries[2])"
   ]
  },
  {
   "cell_type": "code",
   "execution_count": 5,
   "metadata": {},
   "outputs": [
    {
     "name": "stdout",
     "output_type": "stream",
     "text": [
      "chocolate\n"
     ]
    }
   ],
   "source": [
    "print(groceries[-1])"
   ]
  },
  {
   "cell_type": "markdown",
   "metadata": {
    "slideshow": {
     "slide_type": "slide"
    }
   },
   "source": [
    "What is the result of running the code **print(groceries[3])**?\n",
    "<p>\n",
    "a) Error<br>\n",
    "b) Chocolate<br>\n",
    "c) Apples"
   ]
  },
  {
   "cell_type": "code",
   "execution_count": 9,
   "metadata": {
    "slideshow": {
     "slide_type": "subslide"
    }
   },
   "outputs": [
    {
     "ename": "IndexError",
     "evalue": "list index out of range",
     "output_type": "error",
     "traceback": [
      "\u001b[0;31m---------------------------------------------------------------------------\u001b[0m",
      "\u001b[0;31mIndexError\u001b[0m                                Traceback (most recent call last)",
      "\u001b[0;32m<ipython-input-9-87080ad480f6>\u001b[0m in \u001b[0;36m<module>\u001b[0;34m()\u001b[0m\n\u001b[0;32m----> 1\u001b[0;31m \u001b[0mgroceries\u001b[0m\u001b[0;34m[\u001b[0m\u001b[0;36m3\u001b[0m\u001b[0;34m]\u001b[0m\u001b[0;34m\u001b[0m\u001b[0m\n\u001b[0m",
      "\u001b[0;31mIndexError\u001b[0m: list index out of range"
     ]
    }
   ],
   "source": [
    "groceries[3]"
   ]
  },
  {
   "cell_type": "markdown",
   "metadata": {
    "slideshow": {
     "slide_type": "slide"
    }
   },
   "source": [
    "# Getting multiple things from a list"
   ]
  },
  {
   "cell_type": "code",
   "execution_count": 6,
   "metadata": {
    "slideshow": {
     "slide_type": "-"
    }
   },
   "outputs": [
    {
     "data": {
      "text/plain": [
       "['apples', 'blueberries', 'chocolate']"
      ]
     },
     "execution_count": 6,
     "metadata": {},
     "output_type": "execute_result"
    }
   ],
   "source": [
    "groceries"
   ]
  },
  {
   "cell_type": "code",
   "execution_count": 2,
   "metadata": {
    "slideshow": {
     "slide_type": "-"
    }
   },
   "outputs": [
    {
     "name": "stdout",
     "output_type": "stream",
     "text": [
      "['blueberries', 'chocolate']\n",
      "['apples', 'blueberries']\n"
     ]
    }
   ],
   "source": [
    "# go from 1 and stop before 3\n",
    "print(groceries[1:3])\n",
    "print(groceries[0:2])"
   ]
  },
  {
   "cell_type": "markdown",
   "metadata": {
    "slideshow": {
     "slide_type": "slide"
    }
   },
   "source": [
    "Given the following list:"
   ]
  },
  {
   "cell_type": "code",
   "execution_count": 8,
   "metadata": {},
   "outputs": [
    {
     "data": {
      "text/plain": [
       "['apples', 'blueberries', 'chocolate']"
      ]
     },
     "execution_count": 8,
     "metadata": {},
     "output_type": "execute_result"
    }
   ],
   "source": [
    "groceries"
   ]
  },
  {
   "cell_type": "markdown",
   "metadata": {},
   "source": [
    "What is the result of **groceries[0:3]**:\n",
    "\n",
    "a) **IndexError**\n",
    "\n",
    "b) **['blueberries', 'chocolate']**\n",
    "\n",
    "c) **['apples', 'blueberries', 'chocolate']**"
   ]
  },
  {
   "cell_type": "markdown",
   "metadata": {
    "slideshow": {
     "slide_type": "slide"
    }
   },
   "source": [
    "We can change elements of a list:"
   ]
  },
  {
   "cell_type": "code",
   "execution_count": 36,
   "metadata": {},
   "outputs": [
    {
     "data": {
      "text/plain": [
       "['apples', 'blueberries', 'chocolate']"
      ]
     },
     "execution_count": 36,
     "metadata": {},
     "output_type": "execute_result"
    }
   ],
   "source": [
    "groceries"
   ]
  },
  {
   "cell_type": "code",
   "execution_count": 37,
   "metadata": {},
   "outputs": [
    {
     "name": "stdout",
     "output_type": "stream",
     "text": [
      "['apples', 'blueberries', 'cranberries']\n"
     ]
    }
   ],
   "source": [
    "groceries[2] = \"cranberries\"\n",
    "print(groceries)"
   ]
  },
  {
   "cell_type": "markdown",
   "metadata": {
    "slideshow": {
     "slide_type": "slide"
    }
   },
   "source": [
    "**`len()`** is a function so you can put stuff into it (in between the parentheses) to get some useful information out. In this case, the total amount of items in the list (also called length of a list):"
   ]
  },
  {
   "cell_type": "code",
   "execution_count": 3,
   "metadata": {},
   "outputs": [
    {
     "data": {
      "text/plain": [
       "3"
      ]
     },
     "execution_count": 3,
     "metadata": {},
     "output_type": "execute_result"
    }
   ],
   "source": [
    "len(groceries)"
   ]
  },
  {
   "cell_type": "markdown",
   "metadata": {
    "slideshow": {
     "slide_type": "slide"
    }
   },
   "source": [
    "We can do similar things with strings!"
   ]
  },
  {
   "cell_type": "code",
   "execution_count": 5,
   "metadata": {},
   "outputs": [
    {
     "name": "stdout",
     "output_type": "stream",
     "text": [
      "b\n"
     ]
    }
   ],
   "source": [
    "major = \"biochem\"\n",
    "print(major[0])"
   ]
  },
  {
   "cell_type": "code",
   "execution_count": 9,
   "metadata": {},
   "outputs": [
    {
     "name": "stdout",
     "output_type": "stream",
     "text": [
      "m\n"
     ]
    }
   ],
   "source": [
    "print(major[-1])"
   ]
  },
  {
   "cell_type": "code",
   "execution_count": 12,
   "metadata": {},
   "outputs": [
    {
     "data": {
      "text/plain": [
       "7"
      ]
     },
     "execution_count": 12,
     "metadata": {},
     "output_type": "execute_result"
    }
   ],
   "source": [
    "len(major)"
   ]
  },
  {
   "cell_type": "markdown",
   "metadata": {
    "slideshow": {
     "slide_type": "slide"
    }
   },
   "source": [
    "But with strings, you can't change parts of them afterwards:"
   ]
  },
  {
   "cell_type": "code",
   "execution_count": 13,
   "metadata": {
    "scrolled": true
   },
   "outputs": [
    {
     "ename": "TypeError",
     "evalue": "'str' object does not support item assignment",
     "output_type": "error",
     "traceback": [
      "\u001b[0;31m---------------------------------------------------------------------------\u001b[0m",
      "\u001b[0;31mTypeError\u001b[0m                                 Traceback (most recent call last)",
      "\u001b[0;32m<ipython-input-13-914a99bd4370>\u001b[0m in \u001b[0;36m<module>\u001b[0;34m()\u001b[0m\n\u001b[0;32m----> 1\u001b[0;31m \u001b[0mmajor\u001b[0m\u001b[0;34m[\u001b[0m\u001b[0;36m3\u001b[0m\u001b[0;34m]\u001b[0m \u001b[0;34m=\u001b[0m \u001b[0;34m't'\u001b[0m\u001b[0;34m\u001b[0m\u001b[0m\n\u001b[0m",
      "\u001b[0;31mTypeError\u001b[0m: 'str' object does not support item assignment"
     ]
    }
   ],
   "source": [
    "major[3] = 't'"
   ]
  },
  {
   "cell_type": "markdown",
   "metadata": {
    "slideshow": {
     "slide_type": "slide"
    }
   },
   "source": [
    "List Operations\n",
    "==============="
   ]
  },
  {
   "cell_type": "markdown",
   "metadata": {},
   "source": [
    "Things we can do with two or more lists:"
   ]
  },
  {
   "cell_type": "code",
   "execution_count": 10,
   "metadata": {
    "collapsed": true
   },
   "outputs": [],
   "source": [
    "drinks = [\"pop\", \"water\", \"juice\"]\n",
    "food = [\"apple\", \"pear\", \"bread\"]"
   ]
  },
  {
   "cell_type": "code",
   "execution_count": 2,
   "metadata": {
    "collapsed": true,
    "slideshow": {
     "slide_type": "slide"
    }
   },
   "outputs": [],
   "source": [
    "drinks = [\"pop\", \"water\", \"juice\"]\n",
    "food = [\"apple\", \"pear\", \"bread\"]"
   ]
  },
  {
   "cell_type": "markdown",
   "metadata": {
    "slideshow": {
     "slide_type": "-"
    }
   },
   "source": [
    "Since `\"apple\" + \"water\"` gives `\"applewater\"` what will `drinks+food` do?\n",
    "\n",
    "a) Give an error\n",
    "\n",
    "b) `[\"pop\", \"water\", \"juice\", \"apple\", \"pear\", \"bread\"]`\n",
    "\n",
    "c) `[\"popapple\", \"waterpear\", \"juicebread\"]`"
   ]
  },
  {
   "cell_type": "code",
   "execution_count": 2,
   "metadata": {
    "collapsed": true,
    "slideshow": {
     "slide_type": "slide"
    }
   },
   "outputs": [],
   "source": [
    "drinks = [\"pop\", \"water\", \"juice\"]\n",
    "food = [\"apple\", \"pear\", \"bread\"]"
   ]
  },
  {
   "cell_type": "markdown",
   "metadata": {
    "slideshow": {
     "slide_type": "-"
    }
   },
   "source": [
    "Since `\"apple\" * 3` gives `\"appleappleapple\"` what will `drinks * 2` do?\n",
    "\n",
    "a) Give an error\n",
    "\n",
    "b) `[\"poppop\", \"waterwater\", \"juicejuice\"]`\n",
    "\n",
    "c) `[\"pop\", \"water\", \"juice\", \"pop\", \"water\", \"juice\"]`"
   ]
  },
  {
   "cell_type": "markdown",
   "metadata": {
    "slideshow": {
     "slide_type": "slide"
    }
   },
   "source": [
    "Note: we can't subtract lists or strings (we get a `TypeError`)"
   ]
  },
  {
   "cell_type": "code",
   "execution_count": 3,
   "metadata": {
    "slideshow": {
     "slide_type": "-"
    }
   },
   "outputs": [
    {
     "ename": "TypeError",
     "evalue": "unsupported operand type(s) for -: 'list' and 'list'",
     "output_type": "error",
     "traceback": [
      "\u001b[0;31m---------------------------------------------------------------------------\u001b[0m",
      "\u001b[0;31mTypeError\u001b[0m                                 Traceback (most recent call last)",
      "\u001b[0;32m<ipython-input-3-6398608ba1cd>\u001b[0m in \u001b[0;36m<module>\u001b[0;34m()\u001b[0m\n\u001b[1;32m      1\u001b[0m \u001b[0;31m# Note this isn't possible\u001b[0m\u001b[0;34m\u001b[0m\u001b[0;34m\u001b[0m\u001b[0m\n\u001b[0;32m----> 2\u001b[0;31m \u001b[0mdrinks\u001b[0m \u001b[0;34m-\u001b[0m \u001b[0mfood\u001b[0m\u001b[0;34m\u001b[0m\u001b[0m\n\u001b[0m",
      "\u001b[0;31mTypeError\u001b[0m: unsupported operand type(s) for -: 'list' and 'list'"
     ]
    }
   ],
   "source": [
    "drinks - food"
   ]
  },
  {
   "cell_type": "markdown",
   "metadata": {
    "slideshow": {
     "slide_type": "slide"
    }
   },
   "source": [
    "Python finds out the truth: comparisons\n",
    "==============="
   ]
  },
  {
   "cell_type": "code",
   "execution_count": 12,
   "metadata": {},
   "outputs": [
    {
     "data": {
      "text/plain": [
       "True"
      ]
     },
     "execution_count": 12,
     "metadata": {},
     "output_type": "execute_result"
    }
   ],
   "source": [
    "5 > 3"
   ]
  },
  {
   "cell_type": "code",
   "execution_count": 14,
   "metadata": {},
   "outputs": [
    {
     "data": {
      "text/plain": [
       "True"
      ]
     },
     "execution_count": 14,
     "metadata": {},
     "output_type": "execute_result"
    }
   ],
   "source": [
    "5 != 2"
   ]
  },
  {
   "cell_type": "code",
   "execution_count": 3,
   "metadata": {},
   "outputs": [
    {
     "data": {
      "text/plain": [
       "True"
      ]
     },
     "execution_count": 3,
     "metadata": {},
     "output_type": "execute_result"
    }
   ],
   "source": [
    "5 == 5"
   ]
  },
  {
   "cell_type": "code",
   "execution_count": 9,
   "metadata": {},
   "outputs": [
    {
     "data": {
      "text/plain": [
       "False"
      ]
     },
     "execution_count": 9,
     "metadata": {},
     "output_type": "execute_result"
    }
   ],
   "source": [
    "\"pants\" == \"face\""
   ]
  },
  {
   "cell_type": "code",
   "execution_count": 5,
   "metadata": {
    "slideshow": {
     "slide_type": "slide"
    }
   },
   "outputs": [
    {
     "data": {
      "text/plain": [
       "True"
      ]
     },
     "execution_count": 5,
     "metadata": {},
     "output_type": "execute_result"
    }
   ],
   "source": [
    "(5 == 5)"
   ]
  },
  {
   "cell_type": "code",
   "execution_count": 8,
   "metadata": {},
   "outputs": [
    {
     "name": "stdout",
     "output_type": "stream",
     "text": [
      "True\n",
      "True\n"
     ]
    },
    {
     "data": {
      "text/plain": [
       "bool"
      ]
     },
     "execution_count": 8,
     "metadata": {},
     "output_type": "execute_result"
    }
   ],
   "source": [
    "res = 5 == 5\n",
    "print(res)\n",
    "res = (5 == 5)\n",
    "print(res)\n",
    "type(res)"
   ]
  },
  {
   "cell_type": "markdown",
   "metadata": {
    "slideshow": {
     "slide_type": "slide"
    }
   },
   "source": [
    "What will be the result of:\n",
    "```python\n",
    "participants = 33\n",
    "print(participants >= 33)\n",
    "```\n",
    "<p>\n",
    "a) True<br>\n",
    "b) False<br>\n",
    "c) Error<br>"
   ]
  },
  {
   "cell_type": "markdown",
   "metadata": {
    "slideshow": {
     "slide_type": "slide"
    }
   },
   "source": [
    "Combining comparisons\n",
    "===============\n",
    "\n",
    "What if we want to find a number in a range?"
   ]
  },
  {
   "cell_type": "code",
   "execution_count": 10,
   "metadata": {},
   "outputs": [
    {
     "name": "stdout",
     "output_type": "stream",
     "text": [
      "True\n",
      "True\n",
      "True\n"
     ]
    }
   ],
   "source": [
    "num = 5\n",
    "\n",
    "print(num < 10)\n",
    "print(1 < num)\n",
    "print(1 < num and num < 10)"
   ]
  },
  {
   "cell_type": "markdown",
   "metadata": {
    "slideshow": {
     "slide_type": "slide"
    }
   },
   "source": [
    "What will the statment below return:\n",
    "\n",
    "\n",
    "```python\n",
    "name = \"Ivana\"\n",
    "print(name == \"Ivana\" or name == \"Sean\")\n",
    "```\n",
    "\n",
    "a) False\n",
    "\n",
    "b) True"
   ]
  },
  {
   "cell_type": "markdown",
   "metadata": {
    "slideshow": {
     "slide_type": "slide"
    }
   },
   "source": [
    "Given `not` flips/invert the result, what will the statment below return:\n",
    "\n",
    "```python\n",
    "num = 5\n",
    "print(num > 1 and not num == 5)\n",
    "```\n",
    "\n",
    "a) False\n",
    "\n",
    "b) True"
   ]
  },
  {
   "cell_type": "markdown",
   "metadata": {
    "slideshow": {
     "slide_type": "slide"
    }
   },
   "source": [
    "Python finds out the truth: membership\n",
    "==============="
   ]
  },
  {
   "cell_type": "code",
   "execution_count": 16,
   "metadata": {
    "slideshow": {
     "slide_type": "-"
    }
   },
   "outputs": [
    {
     "data": {
      "text/plain": [
       "True"
      ]
     },
     "execution_count": 16,
     "metadata": {},
     "output_type": "execute_result"
    }
   ],
   "source": [
    "\"a\" in \"face\""
   ]
  },
  {
   "cell_type": "code",
   "execution_count": 17,
   "metadata": {},
   "outputs": [
    {
     "data": {
      "text/plain": [
       "False"
      ]
     },
     "execution_count": 17,
     "metadata": {},
     "output_type": "execute_result"
    }
   ],
   "source": [
    "\"b\" in \"pants\""
   ]
  },
  {
   "cell_type": "code",
   "execution_count": 18,
   "metadata": {},
   "outputs": [
    {
     "data": {
      "text/plain": [
       "True"
      ]
     },
     "execution_count": 18,
     "metadata": {},
     "output_type": "execute_result"
    }
   ],
   "source": [
    "\"ice\" in [\"I\", \"scream\", \"for\", \"ice\", \"cream\"] "
   ]
  },
  {
   "cell_type": "markdown",
   "metadata": {
    "slideshow": {
     "slide_type": "slide"
    }
   },
   "source": [
    "What will be the result of:\n",
    "```python\n",
    "\"put\" in \"computer\"\n",
    "```\n",
    "<p>\n",
    "a) True<br>\n",
    "b) False<br>\n",
    "c) Error<br>"
   ]
  },
  {
   "cell_type": "markdown",
   "metadata": {
    "collapsed": true,
    "slideshow": {
     "slide_type": "slide"
    }
   },
   "source": [
    "Conditions\n",
    "=======\n",
    "\n",
    "Using comparisons to do one thing or another, depending on some condition"
   ]
  },
  {
   "cell_type": "code",
   "execution_count": 19,
   "metadata": {},
   "outputs": [
    {
     "name": "stdout",
     "output_type": "stream",
     "text": [
      "Go for a walk!\n"
     ]
    }
   ],
   "source": [
    "weather = \"sunny\"\n",
    "# the colon important!\n",
    "if weather == \"sunny\":\n",
    "    print(\"Go for a walk!\")"
   ]
  },
  {
   "cell_type": "markdown",
   "metadata": {
    "slideshow": {
     "slide_type": "fragment"
    }
   },
   "source": [
    "What happens if you change the first line to `weather = \"rainy\"`?\n",
    "\n",
    "<p>\n",
    "a) Error<br>\n",
    "b) No output<br>\n",
    "c) \"Go for a walk!\"<br>"
   ]
  },
  {
   "cell_type": "code",
   "execution_count": 20,
   "metadata": {
    "slideshow": {
     "slide_type": "slide"
    }
   },
   "outputs": [
    {
     "name": "stdout",
     "output_type": "stream",
     "text": [
      "Go for a walk!\n"
     ]
    }
   ],
   "source": [
    "weather = \"sunny\"\n",
    "if weather == \"sunny\":\n",
    "    print(\"Go for a walk!\")\n",
    "if weather == \"rainy\":\n",
    "    print(\"Do your work!\")"
   ]
  },
  {
   "cell_type": "markdown",
   "metadata": {},
   "source": [
    "Now what happens if you change the first line to `weather = \"rainy\"`?"
   ]
  },
  {
   "cell_type": "markdown",
   "metadata": {
    "slideshow": {
     "slide_type": "slide"
    }
   },
   "source": [
    "`else` catches all other cases"
   ]
  },
  {
   "cell_type": "code",
   "execution_count": 38,
   "metadata": {
    "slideshow": {
     "slide_type": "-"
    }
   },
   "outputs": [
    {
     "name": "stdout",
     "output_type": "stream",
     "text": [
      "Do your work!\n"
     ]
    }
   ],
   "source": [
    "weather = \"crappy\"\n",
    "if weather == \"sunny\":\n",
    "    print(\"Go for a walk!\")\n",
    "else:\n",
    "    print(\"Do your work!\")"
   ]
  },
  {
   "cell_type": "markdown",
   "metadata": {
    "slideshow": {
     "slide_type": "slide"
    }
   },
   "source": [
    "What if you want to go for a walk when it is either sunny or cloudy?"
   ]
  },
  {
   "cell_type": "code",
   "execution_count": 15,
   "metadata": {
    "slideshow": {
     "slide_type": "-"
    }
   },
   "outputs": [
    {
     "name": "stdout",
     "output_type": "stream",
     "text": [
      "Go for a walk!\n"
     ]
    }
   ],
   "source": [
    "weather = \"sunny\"\n",
    "if weather == \"sunny\" or weather == \"cloudy\":\n",
    "    print(\"Go for a walk!\")\n",
    "else:\n",
    "    print(\"Do your work!\")"
   ]
  },
  {
   "cell_type": "markdown",
   "metadata": {
    "slideshow": {
     "slide_type": "slide"
    }
   },
   "source": [
    "What if your only day off is Saturday?"
   ]
  },
  {
   "cell_type": "code",
   "execution_count": 23,
   "metadata": {
    "slideshow": {
     "slide_type": "-"
    }
   },
   "outputs": [
    {
     "name": "stdout",
     "output_type": "stream",
     "text": [
      "Go for a walk!\n"
     ]
    }
   ],
   "source": [
    "weather = \"sunny\"\n",
    "today = \"Saturday\"\n",
    "if weather == \"sunny\" and today == \"Saturday\":\n",
    "    print(\"Go for a walk!\")\n",
    "else:\n",
    "    print(\"Do your work!\")"
   ]
  },
  {
   "cell_type": "markdown",
   "metadata": {
    "slideshow": {
     "slide_type": "slide"
    }
   },
   "source": [
    "Talking to People\n",
    "================="
   ]
  },
  {
   "cell_type": "code",
   "execution_count": 16,
   "metadata": {},
   "outputs": [
    {
     "name": "stdout",
     "output_type": "stream",
     "text": [
      "What's your name?Sean\n",
      "Hello Sean\n"
     ]
    }
   ],
   "source": [
    "name = input(\"What's your name?\")\n",
    "print(\"Hello \" + name)"
   ]
  },
  {
   "cell_type": "markdown",
   "metadata": {},
   "source": [
    "How would you find what kind of data type is returned by **input**?"
   ]
  },
  {
   "cell_type": "code",
   "execution_count": 17,
   "metadata": {
    "slideshow": {
     "slide_type": "fragment"
    }
   },
   "outputs": [
    {
     "data": {
      "text/plain": [
       "str"
      ]
     },
     "execution_count": 17,
     "metadata": {},
     "output_type": "execute_result"
    }
   ],
   "source": [
    "type(name)"
   ]
  },
  {
   "cell_type": "markdown",
   "metadata": {
    "slideshow": {
     "slide_type": "slide"
    }
   },
   "source": [
    "Why doesn't the following code work? And how can we fix it?"
   ]
  },
  {
   "cell_type": "code",
   "execution_count": 18,
   "metadata": {},
   "outputs": [
    {
     "name": "stdout",
     "output_type": "stream",
     "text": [
      "How old are you?2\n"
     ]
    },
    {
     "ename": "TypeError",
     "evalue": "Can't convert 'int' object to str implicitly",
     "output_type": "error",
     "traceback": [
      "\u001b[0;31m---------------------------------------------------------------------------\u001b[0m",
      "\u001b[0;31mTypeError\u001b[0m                                 Traceback (most recent call last)",
      "\u001b[0;32m<ipython-input-18-a00e8702899b>\u001b[0m in \u001b[0;36m<module>\u001b[0;34m()\u001b[0m\n\u001b[1;32m      1\u001b[0m \u001b[0mage\u001b[0m \u001b[0;34m=\u001b[0m \u001b[0minput\u001b[0m\u001b[0;34m(\u001b[0m\u001b[0;34m\"How old are you?\"\u001b[0m\u001b[0;34m)\u001b[0m\u001b[0;34m\u001b[0m\u001b[0m\n\u001b[0;32m----> 2\u001b[0;31m \u001b[0mprint\u001b[0m\u001b[0;34m(\u001b[0m\u001b[0mage\u001b[0m \u001b[0;34m+\u001b[0m \u001b[0;36m7\u001b[0m\u001b[0;34m)\u001b[0m\u001b[0;34m\u001b[0m\u001b[0m\n\u001b[0m",
      "\u001b[0;31mTypeError\u001b[0m: Can't convert 'int' object to str implicitly"
     ]
    }
   ],
   "source": [
    "age = input(\"How old are you?\")\n",
    "print(age + 7)"
   ]
  },
  {
   "cell_type": "markdown",
   "metadata": {
    "slideshow": {
     "slide_type": "slide"
    }
   },
   "source": [
    "Example: Cupcake Dispenser\n",
    "===============\n",
    "\n",
    "A person puts in the amount of cupcakes they want and this program returns the total amount they have to pay. The cupcakes are 1.25$ each and only a maximum of 5 cupcakes can be made at a time. If the user wants more than 5 cupcakes print a message that only 5 cupcakes can be made at a time."
   ]
  },
  {
   "cell_type": "code",
   "execution_count": 19,
   "metadata": {
    "slideshow": {
     "slide_type": "-"
    }
   },
   "outputs": [
    {
     "name": "stdout",
     "output_type": "stream",
     "text": [
      "Enter the amount of cupcakes you desire: 2\n",
      "Your order costs 2.5\n"
     ]
    }
   ],
   "source": [
    "user_input = input(\"Enter the amount of cupcakes you desire: \")\n",
    "amount = int(user_input)\n",
    "if amount <= 5:\n",
    "    cost = amount * 1.25\n",
    "    print(\"Your order costs\", cost)\n",
    "else:\n",
    "    print(\"We can only make 5 cupcakes at a time!\")"
   ]
  },
  {
   "cell_type": "markdown",
   "metadata": {
    "slideshow": {
     "slide_type": "slide"
    }
   },
   "source": [
    "Exercise: Pizzeria\n",
    "===============\n",
    "\n",
    "A person puts in the number of slices they want, and how much money they have. A slice of pizza costs $1.50, and the program calculates the total cost of the slices. If the person doesn't have enough money, they must try again. If they do have enough money, their change is calculated.\n",
    "\n",
    "Here are the lines of code you'll need. Put them in the right order **and with the right indentation!**\n",
    "<p>\n",
    "-------\n",
    "```python\n",
    "slices = int(slices_input)\n",
    "```\n",
    "-------\n",
    "```python\n",
    "print(\"Here is your change:\", change)\n",
    "```\n",
    "-------\n",
    "```python\n",
    "slices_input = input(\"Enter how many slices of pizza you want:\")\n",
    "```\n",
    "-------\n",
    "```python\n",
    "if total_cost > money:\n",
    "```\n",
    "-------\n",
    "```python\n",
    "else:\n",
    "```\n",
    "-------\n",
    "```python\n",
    "print(\"You do not have enough money to buy this much pizza!\")\n",
    "```\n",
    "-------\n",
    "```python\n",
    "total_cost = slices * 1.5\n",
    "```\n",
    "-------\n",
    "```python\n",
    "money_input = input(\"Enter how many dollars you have: \")\n",
    "```\n",
    "-------\n",
    "```python\n",
    "money = int(money_input)\n",
    "```\n",
    "-------\n",
    "```python\n",
    "change = money - total_cost\n",
    "```\n",
    "-------\n"
   ]
  },
  {
   "cell_type": "code",
   "execution_count": 26,
   "metadata": {
    "slideshow": {
     "slide_type": "slide"
    }
   },
   "outputs": [
    {
     "name": "stdout",
     "output_type": "stream",
     "text": [
      "Enter how many slices of pizza you want: 12\n",
      "Enter how many dollars you have: 30\n",
      "Here is your change: 12.0\n"
     ]
    }
   ],
   "source": [
    "slices_input = input(\"Enter how many slices of pizza you want: \")\n",
    "money_input = input(\"Enter how many dollars you have: \")\n",
    "slices = int(slices_input)\n",
    "money = int(money_input)\n",
    "total_cost = slices * 1.5\n",
    "if total_cost > money:\n",
    "    print(\"You do not have enough money to buy this much pizza!\")\n",
    "else:\n",
    "    change = money - total_cost\n",
    "    print(\"Here is your change:\", change)"
   ]
  },
  {
   "cell_type": "markdown",
   "metadata": {
    "slideshow": {
     "slide_type": "slide"
    }
   },
   "source": [
    "Repeating actions\n",
    "==========\n",
    "\n",
    "Problem: we want to do something a certain number of times or we want to do something to each element of a list"
   ]
  },
  {
   "cell_type": "code",
   "execution_count": 40,
   "metadata": {
    "collapsed": true
   },
   "outputs": [],
   "source": [
    "names = [\"Alan\", \"Irish\", \"Ryan\", \"Sajed\", \"Stacy\"]"
   ]
  },
  {
   "cell_type": "code",
   "execution_count": 41,
   "metadata": {},
   "outputs": [
    {
     "name": "stdout",
     "output_type": "stream",
     "text": [
      "Hi five Alan\n",
      "Hi five Irish\n",
      "Hi five Ryan\n",
      "Hi five Sajed\n",
      "Hi five Stacy\n"
     ]
    }
   ],
   "source": [
    "print(\"Hi five \" + names[0])\n",
    "print(\"Hi five \" + names[1])\n",
    "print(\"Hi five \" + names[2])\n",
    "print(\"Hi five \" + names[3])\n",
    "print(\"Hi five \" + names[4])"
   ]
  },
  {
   "cell_type": "markdown",
   "metadata": {},
   "source": [
    "But this is very repetitive and boring. Is there a more efficient way to do this?"
   ]
  },
  {
   "cell_type": "markdown",
   "metadata": {
    "slideshow": {
     "slide_type": "slide"
    }
   },
   "source": [
    "There is! We can use a **for loop**:"
   ]
  },
  {
   "cell_type": "code",
   "execution_count": 42,
   "metadata": {},
   "outputs": [
    {
     "data": {
      "text/plain": [
       "['Alan', 'Irish', 'Ryan', 'Sajed', 'Stacy']"
      ]
     },
     "execution_count": 42,
     "metadata": {},
     "output_type": "execute_result"
    }
   ],
   "source": [
    "names"
   ]
  },
  {
   "cell_type": "code",
   "execution_count": 44,
   "metadata": {
    "slideshow": {
     "slide_type": "-"
    }
   },
   "outputs": [
    {
     "name": "stdout",
     "output_type": "stream",
     "text": [
      "Hi five Alan\n",
      "Hi five Irish\n",
      "Hi five Ryan\n",
      "Hi five Sajed\n",
      "Hi five Stacy\n"
     ]
    }
   ],
   "source": [
    "for name in names:\n",
    "    print(\"Hi five \" + name)"
   ]
  },
  {
   "cell_type": "markdown",
   "metadata": {
    "slideshow": {
     "slide_type": "slide"
    }
   },
   "source": [
    "Let's take a closer look at how for loops work.\n",
    "\n",
    "<img src=\"./files/for_loop.png\" width=\"800\" alt=\"for loop\">"
   ]
  },
  {
   "cell_type": "code",
   "execution_count": 32,
   "metadata": {
    "slideshow": {
     "slide_type": "slide"
    }
   },
   "outputs": [
    {
     "name": "stdout",
     "output_type": "stream",
     "text": [
      "11\n",
      "12\n",
      "13\n",
      "14\n"
     ]
    }
   ],
   "source": [
    "# let's draw this out on the board\n",
    "for x in [1, 2, 3, 4]:\n",
    "    print(x + 10)"
   ]
  },
  {
   "cell_type": "markdown",
   "metadata": {
    "slideshow": {
     "slide_type": "slide"
    }
   },
   "source": [
    "Remember strings are almost like a list of characters:"
   ]
  },
  {
   "cell_type": "code",
   "execution_count": 20,
   "metadata": {},
   "outputs": [
    {
     "name": "stdout",
     "output_type": "stream",
     "text": [
      "k\n",
      "i\n",
      "t\n",
      "t\n",
      "y\n"
     ]
    }
   ],
   "source": [
    "animal = \"kitty\"\n",
    "for char in animal:\n",
    "    print(char)"
   ]
  },
  {
   "cell_type": "markdown",
   "metadata": {
    "slideshow": {
     "slide_type": "slide"
    }
   },
   "source": [
    "Let's count the number of characters, just like `len()` does!"
   ]
  },
  {
   "cell_type": "code",
   "execution_count": 10,
   "metadata": {},
   "outputs": [
    {
     "name": "stdout",
     "output_type": "stream",
     "text": [
      "0\n",
      "1\n",
      "2\n",
      "3\n",
      "4\n",
      "Total 5\n"
     ]
    }
   ],
   "source": [
    "# let's go through this one on the board too\n",
    "\n",
    "animal = \"kitty\"\n",
    "counter = 0\n",
    "\n",
    "for item in animal:    \n",
    "    print(counter)\n",
    "    counter = counter + 1\n",
    "\n",
    "print(\"Total\", counter)"
   ]
  },
  {
   "cell_type": "markdown",
   "metadata": {
    "slideshow": {
     "slide_type": "slide"
    }
   },
   "source": [
    "What if we want to print out each letter and its position as we count it:\n",
    "```\n",
    "k 0\n",
    "i 1\n",
    "t 2\n",
    "t 3\n",
    "y 4```\n",
    "\n",
    "How do we change the following line `print(animal, counter)` in the code below?"
   ]
  },
  {
   "cell_type": "code",
   "execution_count": 24,
   "metadata": {},
   "outputs": [
    {
     "name": "stdout",
     "output_type": "stream",
     "text": [
      "kitty 0\n",
      "kitty 1\n",
      "kitty 2\n",
      "kitty 3\n",
      "kitty 4\n"
     ]
    }
   ],
   "source": [
    "animal = \"kitty\"\n",
    "counter = 0\n",
    "for item in animal:\n",
    "    print(animal, counter) # we have to change this\n",
    "    counter = counter + 1"
   ]
  },
  {
   "cell_type": "markdown",
   "metadata": {
    "slideshow": {
     "slide_type": "slide"
    }
   },
   "source": [
    "What if we want to print out each letter that matches between two words of equal length?\n",
    "\n",
    "For example, the match between words `mug` and `bug` wold be:\n",
    "\n",
    "`u`\n",
    "\n",
    "`g`\n",
    "\n",
    "Fill in the `BLANK`s! (2 hints in the sub-slides)"
   ]
  },
  {
   "cell_type": "code",
   "execution_count": null,
   "metadata": {
    "collapsed": true
   },
   "outputs": [],
   "source": [
    "animal = \"kitty\"\n",
    "match = \"doggy\"\n",
    "counter = 0\n",
    "\n",
    "for item in animal:\n",
    "    if BLANK == BLANK:\n",
    "        print(BLANK)\n",
    "    counter = counter + 1"
   ]
  },
  {
   "cell_type": "markdown",
   "metadata": {
    "slideshow": {
     "slide_type": "subslide"
    }
   },
   "source": [
    "How would you access one character at a time from each word? (next sub-slide shows you how) "
   ]
  },
  {
   "cell_type": "code",
   "execution_count": 28,
   "metadata": {
    "slideshow": {
     "slide_type": "subslide"
    }
   },
   "outputs": [
    {
     "name": "stdout",
     "output_type": "stream",
     "text": [
      "k d\n",
      "i o\n",
      "t g\n",
      "t g\n",
      "y y\n"
     ]
    }
   ],
   "source": [
    "animal = \"kitty\"\n",
    "match = \"doggy\"\n",
    "counter = 0\n",
    "\n",
    "for item in animal:\n",
    "    print(animal[counter], match[counter])\n",
    "    counter = counter + 1"
   ]
  },
  {
   "cell_type": "markdown",
   "metadata": {
    "slideshow": {
     "slide_type": "slide"
    }
   },
   "source": [
    "Exercise: Tweet validator\n",
    "==============\n",
    "\n",
    "Tweets are 140 character long Internet messages. Make sure a given tweet string is the appropriate length. Print out the length of the string and whether it is valid or not.\n",
    "\n",
    "For example, given `tweet = \"OMG Python!\"` the output should be:\n",
    "```\n",
    "11\n",
    "Valid\n",
    "```"
   ]
  },
  {
   "cell_type": "markdown",
   "metadata": {},
   "source": [
    "Fill in the `BLANK`s! (Two hints are on the \"down\" slide if you want them.)"
   ]
  },
  {
   "cell_type": "code",
   "execution_count": null,
   "metadata": {
    "collapsed": true
   },
   "outputs": [],
   "source": [
    "tweet = \"OMG Python!\"\n",
    "count = 0\n",
    "for char in tweet:\n",
    "    BLANKBLANKBLANK\n",
    "print(count)\n",
    "if BLANKBLANKBLANK:\n",
    "    print(\"Valid\")\n",
    "else:\n",
    "    print(\"Invalid\")"
   ]
  },
  {
   "cell_type": "markdown",
   "metadata": {
    "slideshow": {
     "slide_type": "subslide"
    }
   },
   "source": [
    "**Hint:**\n",
    "How do we count the number of characters in a tweet?"
   ]
  },
  {
   "cell_type": "markdown",
   "metadata": {
    "slideshow": {
     "slide_type": "subslide"
    }
   },
   "source": [
    "**Hint:** When is a tweet valid?"
   ]
  },
  {
   "cell_type": "code",
   "execution_count": 27,
   "metadata": {
    "slideshow": {
     "slide_type": "slide"
    }
   },
   "outputs": [
    {
     "name": "stdout",
     "output_type": "stream",
     "text": [
      "11\n",
      "Valid\n"
     ]
    }
   ],
   "source": [
    "tweet = \"OMG Python!\"\n",
    "count = 0\n",
    "for char in tweet:\n",
    "    count = count + 1\n",
    "print(count)\n",
    "if count <= 140:\n",
    "    print(\"Valid\")\n",
    "else:\n",
    "    print(\"Invalid\")"
   ]
  },
  {
   "cell_type": "markdown",
   "metadata": {
    "slideshow": {
     "slide_type": "slide"
    }
   },
   "source": [
    "Or even more efficient, use available functions:"
   ]
  },
  {
   "cell_type": "code",
   "execution_count": 28,
   "metadata": {},
   "outputs": [
    {
     "name": "stdout",
     "output_type": "stream",
     "text": [
      "11\n",
      "Valid\n"
     ]
    }
   ],
   "source": [
    "count = len(tweet)\n",
    "print(count)\n",
    "if count <= 140:\n",
    "    print(\"Valid\")\n",
    "else:\n",
    "    print(\"Invalid\")"
   ]
  },
  {
   "cell_type": "markdown",
   "metadata": {
    "slideshow": {
     "slide_type": "slide"
    }
   },
   "source": [
    "Exercise: Processing Grades\n",
    "===============\n",
    "\n",
    "Given a list of grades, `grades = [81, 70, 60, 91]`, print the average and the number of grades above 80.\n",
    "In this case:\n",
    "```\n",
    "Average 75.5\n",
    "Number of good grades 2\n",
    "```\n"
   ]
  },
  {
   "cell_type": "markdown",
   "metadata": {
    "slideshow": {
     "slide_type": "subslide"
    }
   },
   "source": [
    "**Hint:** Start by thinking about how to calculate the average grade.\n",
    "\n",
    "Get this working first!"
   ]
  },
  {
   "cell_type": "markdown",
   "metadata": {
    "slideshow": {
     "slide_type": "subslide"
    }
   },
   "source": [
    "**Hint:** Then think about how to count the number of grades above 80"
   ]
  },
  {
   "cell_type": "code",
   "execution_count": 29,
   "metadata": {
    "slideshow": {
     "slide_type": "slide"
    }
   },
   "outputs": [
    {
     "name": "stdout",
     "output_type": "stream",
     "text": [
      "WOW! 81\n",
      "WOW! 91\n",
      "Average 75.5\n",
      "Number of good grades 2\n"
     ]
    }
   ],
   "source": [
    "# Python is great for data processing\n",
    "grades = [81, 70, 60, 91]\n",
    "good_grades = 0\n",
    "avg = 0\n",
    "for grade in grades:\n",
    "    if grade >= 80:\n",
    "        print(\"WOW! \" + str(grade))\n",
    "        good_grades = good_grades + 1\n",
    "    avg = avg + grade\n",
    "avg = avg/len(grades)\n",
    "print(\"Average \" + str(avg))\n",
    "print(\"Number of good grades \" + str(good_grades))"
   ]
  },
  {
   "cell_type": "markdown",
   "metadata": {
    "slideshow": {
     "slide_type": "slide"
    }
   },
   "source": [
    "## Project Day 1\n",
    "\n",
    "Link:\n",
    "\n",
    "https://github.com/uwpyb/materials/blob/master/projects/Day1_Quiz.ipynb"
   ]
  }
 ],
 "metadata": {
  "celltoolbar": "Slideshow",
  "kernelspec": {
   "display_name": "Python 3",
   "language": "python",
   "name": "python3"
  },
  "language_info": {
   "codemirror_mode": {
    "name": "ipython",
    "version": 3
   },
   "file_extension": ".py",
   "mimetype": "text/x-python",
   "name": "python",
   "nbconvert_exporter": "python",
   "pygments_lexer": "ipython3",
   "version": "3.5.3"
  }
 },
 "nbformat": 4,
 "nbformat_minor": 1
}
