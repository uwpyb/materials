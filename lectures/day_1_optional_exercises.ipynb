{
 "cells": [
  {
   "cell_type": "markdown",
   "metadata": {},
   "source": [
    "# Optional homework\n",
    "\n",
    "Use the exercises below to practice what you learned in the lecture today! Feel free to ask questions or start a discussion about an exercise by sending an email to the mailing list: \n",
    "\n",
    "```\n",
    "python-workshop@lists.uwaterloo.ca\n",
    "```\n",
    "\n",
    "Or just show up earlier tomorrow at 9:30am with your questions!"
   ]
  },
  {
   "cell_type": "markdown",
   "metadata": {},
   "source": [
    "## Warm-up"
   ]
  },
  {
   "cell_type": "markdown",
   "metadata": {},
   "source": [
    "1. What is the value of a and b at the end?\n",
    "```python\n",
    "a = 1\n",
    "b = a\n",
    "a = 3\n",
    "```\n",
    "2. You are given two variables: \n",
    "    ```python\n",
    "a = 1\n",
    "b = 2\n",
    "    ```\n",
    "    Write a piece of code that exchanges their values such that at the end:\n",
    "    `a=2, b=1`\n",
    "    \n",
    "    Hint 1: Just typing a=2, b=1 is not a solution :)\n",
    "    \n",
    "    Hint 2: Think about a and b as two containers having sugar and flour. You want to put sugar in the container where there's flour, and put flour in the container where's sugar. How would you do this?"
   ]
  },
  {
   "cell_type": "markdown",
   "metadata": {},
   "source": [
    "# If-then exercises"
   ]
  },
  {
   "cell_type": "markdown",
   "metadata": {},
   "source": [
    "1. How many paths?\n",
    "---\n",
    "\n",
    "Which of the following would be printed if you were to run this code? Why did you pick this answer?\n",
    "\n",
    "1. A\n",
    "2. B\n",
    "3. C\n",
    "4. B and C\n",
    "\n",
    "```python\n",
    "if 4 > 5:\n",
    "    print('A')\n",
    "elif 4 == 5:\n",
    "    print('B')\n",
    "elif 4 < 5:\n",
    "    print('C')\n",
    "```"
   ]
  },
  {
   "cell_type": "markdown",
   "metadata": {},
   "source": [
    "2. What is truth?\n",
    "---\n",
    "\n",
    "`True` and `False` are special words in Python called booleans which represent true and false statements. However, they aren’t the only values in Python that are true and false. In fact, any value can be used in an if or elif. After reading and running the code below, explain what the rule is for which values are considered true and which are considered false.\n",
    "\n",
    "```python\n",
    "if '':\n",
    "    print('empty string is true')\n",
    "if 'word':\n",
    "    print('word is true')\n",
    "if []:\n",
    "    print('empty list is true')\n",
    "if [1, 2, 3]:\n",
    "    print('non-empty list is true')\n",
    "if 0:\n",
    "    print('zero is true')\n",
    "if 1:\n",
    "    print('one is true')\n",
    "```    "
   ]
  },
  {
   "cell_type": "markdown",
   "metadata": {},
   "source": [
    "3. Close enough\n",
    "---\n",
    "Write some conditions that print True if the variable a is within 10% of the variable b and False otherwise. Compare your implementation with your partner’s: do you get the same answer for all possible pairs of numbers?"
   ]
  },
  {
   "cell_type": "markdown",
   "metadata": {},
   "source": [
    "# For-loops"
   ]
  },
  {
   "cell_type": "markdown",
   "metadata": {},
   "source": [
    "1. Reverse\n",
    "---\n",
    "\n",
    "Write a piece of code that reverses the string. For example, if the input is **Python** it should print **nohtyP**.\n",
    "\n",
    "2. All positives\n",
    "---\n",
    "Write a piece of code that, for a given list, returns only the positive elements in that list. For example, if the list contains following elements\n",
    "```python\n",
    "el = [1, 0, -10, 2, 5]\n",
    "```\n",
    "you should print\n",
    "```python\n",
    "[1, 2, 5]\n",
    "```\n",
    "3. Smallest element\n",
    "---\n",
    "Write a program (using a for loop!) that finds the smallest element in a list.\n",
    "\n",
    "4. Turn a string into a list\n",
    "---\n",
    "Turn a string into a list: For a given string \"hello\", write a program which creates a list:\n",
    "```python\n",
    "[\"h\", \"e\", \"l\", \"l\", \"o\"]\n",
    "```\n",
    "Hint: You can create an empty list like this: my_list = []\n",
    "\n",
    "5. In-place operators\n",
    "---\n",
    "Python (and most other languages in the C family) provides in-place operators that work like this:\n",
    "```python\n",
    "x = 1  # original value\n",
    "x += 1 # add one to x, assigning result back to x\n",
    "x *= 3 # multiply x by 3\n",
    "print(x)\n",
    "\n",
    "6\n",
    "```\n",
    "\n",
    "Write some code that sums the positive and negative numbers in a list separately, using in-place operators. Do you think the result is more or less readable than writing the same without in-place operators?\n",
    "\n",
    "\n",
    "6. Ranking Olympians\n",
    "---\n",
    "Given a list of five men alpine skiing finalists at Sochi 2014 Winter Olympics:\n",
    " \n",
    "```python\n",
    "finalists = ['Viletta SUI', 'Kostelic CRO', 'Innerhofer ITA', 'Jansrud NOR', 'Zampa SVK']\n",
    "```\n",
    "\n",
    "write a piece of code that prints ranked finalists:\n",
    "\n",
    "```python\n",
    "1 Viletta SUI\n",
    "2 Kostelic CRO\n",
    "3 Innerhofer ITA\n",
    "4 Jansrud NOR\n",
    "5 Zampa SVK\n",
    "```\n",
    "When working with collections such as lists and strings, it is common to use\n",
    "the index of an element and the element inside the loop at the same time. To\n",
    "make it easier for us, Python provides a handy `enumerate` object which\n",
    "returns the index as the first loop variable and the element as the second\n",
    "loop variable. It is used in a following way:\n",
    "\n",
    "```python\n",
    "for index, element in enumerate(collection):\n",
    " do things with index and element \n",
    "```\n",
    "\n",
    "Rewrite your code for printing ranked finalists using `enumerate`.\n",
    "\n"
   ]
  },
  {
   "cell_type": "markdown",
   "metadata": {},
   "source": [
    "## Exercises with functions (after Sunday's lecture)"
   ]
  },
  {
   "cell_type": "markdown",
   "metadata": {},
   "source": [
    "1. Adding strings\n",
    "---\n",
    "“Adding” two strings produces their concatenation: 'a' + 'b' is 'ab'. Write a function called fence that takes two parameters called original and wrapper and returns a new string that has the wrapper character at the beginning and end of the original. A call to your function should look like this:\n",
    "\n",
    "```python\n",
    "print(fence(\"this is important!\", '*'))\n",
    "*this is important!*\n",
    "```"
   ]
  },
  {
   "cell_type": "markdown",
   "metadata": {},
   "source": [
    "2. Selecting characters from strings\n",
    "---\n",
    "\n",
    "If the variable s refers to a string, then s[0] is the string’s first character and s[-1] is its last. Write a function called outer that returns a string made up of just the first and last characters of its input. A call to your function should look like this:\n",
    "```python\n",
    "print(outer('helium'))\n",
    "hm\n",
    "```\n"
   ]
  },
  {
   "cell_type": "markdown",
   "metadata": {},
   "source": [
    "3. Variables inside and outside functions\n",
    "---\n",
    "\n",
    "What does the following piece of code display when run - and why?\n",
    "\n",
    "```python\n",
    "f = 0\n",
    "k = 0\n",
    "\n",
    "def f2k(f):\n",
    "  k = ((f-32)*(5.0/9.0)) + 273.15\n",
    "  return k\n",
    "\n",
    "f2k(8)\n",
    "f2k(41)\n",
    "f2k(32)\n",
    "\n",
    "print(k)\n",
    "```"
   ]
  },
  {
   "cell_type": "markdown",
   "metadata": {},
   "source": [
    "4. In the order!\n",
    "---\n",
    "Reorder the commands below so they produce the following:\n",
    "\n",
    "```python\n",
    "name = \"my file\"\n",
    "file_name = replace_spaces(name)\n",
    "print(file_name)\n",
    "my_file\n",
    "```\n",
    "\n",
    "Copy and paste these lines in your editor and put them in the right order:\n",
    "\n",
    "-------\n",
    "```python\n",
    "return new_text\n",
    "```\n",
    "-------\n",
    "```python\n",
    "new_text = new_text + \"_\"\n",
    "```\n",
    "-------\n",
    "```python\n",
    "def replace_spaces(text):\n",
    "```\n",
    "-------\n",
    "```python\n",
    "def for letter in text:\n",
    "```\n",
    "-------\n",
    "```python\n",
    "else:\n",
    "```\n",
    "-------\n",
    "```python\n",
    "new_text = new_text + letter\n",
    "```\n",
    "-------\n",
    "```python\n",
    "new_text = \"\"\n",
    "```\n",
    "-------\n",
    "```python\n",
    "if letter == \" \":\n",
    "```       \n"
   ]
  },
  {
   "cell_type": "markdown",
   "metadata": {},
   "source": [
    "### About the exercises:\n",
    "Some of these exercises are taken from the Software Carpentry workshop curriculum: http://swcarpentry.github.io/python-novice-inflammation/"
   ]
  }
 ],
 "metadata": {
  "kernelspec": {
   "display_name": "Python 3",
   "language": "python",
   "name": "python3"
  },
  "language_info": {
   "codemirror_mode": {
    "name": "ipython",
    "version": 3
   },
   "file_extension": ".py",
   "mimetype": "text/x-python",
   "name": "python",
   "nbconvert_exporter": "python",
   "pygments_lexer": "ipython3",
   "version": "3.4.2"
  }
 },
 "nbformat": 4,
 "nbformat_minor": 0
}
