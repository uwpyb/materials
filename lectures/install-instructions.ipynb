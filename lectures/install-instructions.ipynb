{
 "cells": [
  {
   "cell_type": "markdown",
   "metadata": {
    "slideshow": {
     "slide_type": "slide"
    }
   },
   "source": [
    "# Installing Software\n",
    "\n",
    "For this workshop you will need **Python** and a **text editor**. We'll show instructions for Windows first and then for OS X. If you have trouble with any of these steps, please email `saubin@uwaterloo.ca` who will be happy to help you :)"
   ]
  },
  {
   "cell_type": "markdown",
   "metadata": {
    "slideshow": {
     "slide_type": "slide"
    }
   },
   "source": [
    "# Windows\n",
    "\n",
    "## Step 1: Python\n",
    "\n",
    "1. Download the Python 3.6 Anaconda installer from: https://www.anaconda.com/download/#download\n",
    "2. Install the `.exe` file. Accept all the defaults and **make sure to check the option `Make Anaconda the default Python`**. If you aren't sure how to find/install the file, see this video where the person has downloaded a similar file from a different looking website. However, stop watching when she starts to mention something called \"git bash\": https://youtu.be/xxQ0mzZ8UvA?t=57s\n",
    "3. Check your installation by searching for the `IPython` program and opening it. You can do this by hitting the windows key and then typing `IPython` or by looking for it under the `Anaconda` folder in the start menu. A window that looks like the image below should open.\n",
    "<img src=\"./files/windows_ipython/ipython_window.PNG\" width=\"400\">\n",
    "\n",
    "If you have trouble with any of these steps, please email `saubin@uwaterloo.ca` who will be happy to help you :)"
   ]
  },
  {
   "cell_type": "markdown",
   "metadata": {
    "slideshow": {
     "slide_type": "slide"
    }
   },
   "source": [
    "# Windows\n",
    "\n",
    "## Step 2: Text Editor\n",
    "\n",
    "1. Download the Windows version of Visual Studio Code from: https://code.visualstudio.com/Download\n",
    "2. Install the `.exe` file using the same process that you used for installing Python.\n",
    "3. Check your installation by opening Visual Studio Code in the same way you opened IPython.\n",
    "\n",
    "If you have trouble with any of these steps. Please email `saubin@uwaterloo.ca` who will be happy to help you :)"
   ]
  },
  {
   "cell_type": "markdown",
   "metadata": {
    "slideshow": {
     "slide_type": "slide"
    }
   },
   "source": [
    "# Mac\n",
    "\n",
    "## Step 1: Python\n",
    "\n",
    "1. Download the Python 3.6 Anaconda installer from: https://www.anaconda.com/download/#download\n",
    "2. Install the downloaded file. Accept all the defaults. If you aren't sure how to find/install the file, see this video where the person has downloaded a similar file from a different looking website. However, stop watching when she starts to mention something called \"git bash\": https://youtu.be/TcSAln46u9U?t=1m\n",
    "3. Check your installation by opening the Anaconda Navigator program.\n",
    "<img src=\"./files/mac_ipython/anaconda_in_programs.png\" width=\"400\">\n",
    "\n",
    "4. Once you have the Anaconda Navigator program open, click the IPython icon.\n",
    "<img src=\"./files/mac_ipython/anaconda_navigator.png\" width=\"400\">\n",
    "\n",
    "5. This should open an IPython terminal as shown below.\n",
    "<img src=\"./files/mac_ipython/ipython_console_opened.png\" width=\"400\">\n",
    "\n",
    "If you have trouble with any of these steps, please email `saubin@uwaterloo.ca` who will be happy to help you :)"
   ]
  },
  {
   "cell_type": "markdown",
   "metadata": {
    "slideshow": {
     "slide_type": "slide"
    }
   },
   "source": [
    "# Mac\n",
    "\n",
    "## Step 2: Text Editor\n",
    "\n",
    "1. Download the Mac version of Visual Studio Code from: https://code.visualstudio.com/Download\n",
    "2. Install the program using the same process that you used for installing Python.\n",
    "3. Check your installation by opening Visual Studio Code from the same folder you found Anaconda Navigator in.\n",
    "\n",
    "If you have trouble with any of these steps, please email `saubin@uwaterloo.ca` who will be happy to help you :)"
   ]
  }
 ],
 "metadata": {
  "celltoolbar": "Slideshow",
  "kernelspec": {
   "display_name": "Python 3",
   "language": "python",
   "name": "python3"
  },
  "language_info": {
   "codemirror_mode": {
    "name": "ipython",
    "version": 3
   },
   "file_extension": ".py",
   "mimetype": "text/x-python",
   "name": "python",
   "nbconvert_exporter": "python",
   "pygments_lexer": "ipython3",
   "version": "3.5.3"
  }
 },
 "nbformat": 4,
 "nbformat_minor": 2
}
