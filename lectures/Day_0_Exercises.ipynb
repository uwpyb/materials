{
 "cells": [
  {
   "cell_type": "markdown",
   "metadata": {},
   "source": [
    "# Day 0 Exercises: Data types, print statement and basic string operations"
   ]
  },
  {
   "cell_type": "markdown",
   "metadata": {},
   "source": [
    "<img src=\"./files/exploration.jpg\" width=\"300px\">"
   ]
  },
  {
   "cell_type": "markdown",
   "metadata": {},
   "source": [
    "Use IPython/QtConsole to work on the following exercises. They cover materials presented in the lecture, and introduce some novel, useful concepts. Exercises are ordered by complexity, starting with simpler ones. Some exercises come with a hint or two, to guide the thinking.\n",
    "\n",
    "Use red sticky notes to signal to a mentor that you would like to talk to them: they can help you understand the programs and offer more information if you want to know more about something."
   ]
  },
  {
   "cell_type": "markdown",
   "metadata": {},
   "source": [
    "## Exercise: Warm-up\n",
    "\n",
    "Try predicting what each of these lines will print. Use IPython to check your answers.\n",
    "\n",
    "```python\n",
    "print(4-4.)\n",
    "print(4-.4)\n",
    "print(\"4\"+\"4\")\n",
    "print(str(4)+\"4\")\n",
    "print(\"4\"-\"4\")\n",
    "print(int(1/4))\n",
    "```\n",
    "\n",
    "Did you get the answers you expected? Can you explain why is there a dot at the output in the first line?"
   ]
  },
  {
   "cell_type": "markdown",
   "metadata": {},
   "source": [
    "## Exercise: Find a bug!\n",
    "\n",
    "Repair this small two-line program so it runs smoothly:\n",
    " \n",
    "```python\n",
    "1My_FAV_Animal = \"unicorn\"\n",
    "print(\"My favorite animal is a\" 1My_FAv_Animal)\n",
    "```\n",
    "\n",
    "How many mistakes did you find?"
   ]
  },
  {
   "cell_type": "markdown",
   "metadata": {},
   "source": [
    "## Exercise: Putting things together in `print`\n",
    "    \n",
    "Print function expects a string (string is any kind of text or number wrapped in quotes `\"\"`). However, if it receives only a number, it will automatically convert it to a string (remember, every number can be converted to a string, but the reverse is not true!):\n",
    "```python\n",
    "print(100.50)\n",
    "```\n",
    "Change the following line so that the print statement doesn't produce errors:\n",
    "```python\n",
    "bill_dollar = 20\n",
    "bill_cents = 50\n",
    "print(\"the bill comes to \" + bill_dollar + \" dollars and\" + bill_cents + \"cents\")\n",
    "```\n",
    "\n",
    "**After** you changed the code: instead of using '+' and string conversions, it is possible to use comma (`,`) to combine together strings and numbers. For example `print(\"it is\", 10, \"pm\")`. Rewrite the `print` statement above to use commas instead of pluses."
   ]
  },
  {
   "cell_type": "markdown",
   "metadata": {},
   "source": [
    "## Exercise: Divisions\n",
    "\n",
    "What do you expect to see when you type following divisions in IPython? Try guessing first!\n",
    "```python\n",
    "1/\"1\"\n",
    "1/3\n",
    "0/1\n",
    "6/2*3\n",
    "1/2/3\n",
    "```\n",
    "\n",
    "If you are unsure about the order of operations use brackets make it explicit, for example:\n",
    "\n",
    "```python\n",
    "6/(2*3)\n",
    "```\n",
    "\n",
    "\n",
    "Note: in Python version 2, 1/3 would return 0 because an operation on two integer numbers needs to return an integer, and it returns the closest integer."
   ]
  },
  {
   "cell_type": "markdown",
   "metadata": {},
   "source": [
    "## Exercise: Signs\n",
    "What are going to be the values of variables `a,b` and `c` after running the following lines (as usual, try guessing first!):\n",
    "\n",
    "```python\n",
    "a = -1\n",
    "b = a*a\n",
    "a = 3\n",
    "c = 2*a*b\n",
    "```"
   ]
  },
  {
   "cell_type": "markdown",
   "metadata": {},
   "source": [
    "## Exercise: Counting troubles"
   ]
  },
  {
   "cell_type": "markdown",
   "metadata": {},
   "source": [
    "#### Part a)\n",
    "\n",
    "What is the value of the variable `i` after running the following code:\n",
    "```python\n",
    "i = 0\n",
    "i = i + 1\n",
    "i - 1\n",
    "```"
   ]
  },
  {
   "cell_type": "markdown",
   "metadata": {},
   "source": [
    "#### Part b)\n",
    "Guess what would be the output of the each `print` statement:\n",
    "```python\n",
    "count = 0\n",
    "print(count)\n",
    "count = count + 2\n",
    "print(count)\n",
    "count = count + 10\n",
    "print(count)\n",
    "count = count/6\n",
    "```"
   ]
  },
  {
   "cell_type": "markdown",
   "metadata": {},
   "source": [
    "## Exercise: Currency converter\n",
    "\n",
    "Imagine you're travelling to Europe for holidays and you plan to visit a few countries. You have 1234 CAD for your trip. How much is 1234 CAD in EUR? And how much in GBP? Use the print command to print the message nicely. (1 CAD = 0.67 EUR, 1 CAD = 0.59 GBP)\n",
    "\n",
    "The expected output of the print statement would look like:\n",
    "\n",
    "`1 CAD is equal to 0.67 EUR`\n",
    "\n",
    "**Hint**: Your print statements should not look like this:\n",
    "```python\n",
    "print(\"1 CAD is equal to 0.67 EUR\")\n",
    "```\n",
    "\n",
    "Instead, use variables to store the amounts and print the message by using them in the print statement, for example:\n",
    "```python\n",
    "print(amount_cad, \" is equal to \", amount_eur, \" EUR\")\n",
    "```"
   ]
  },
  {
   "cell_type": "markdown",
   "metadata": {},
   "source": [
    "## Exercise: Fruit exchange\n",
    "\n",
    "Write a piece of code that exchanges the value of two variables. Save this code in a script `exchanger.py`:\n",
    "```python\n",
    "red = \"lemon\"\n",
    "yellow = \"cherry\"\n",
    "```\n",
    "`...`\n",
    "\n",
    "```\n",
    "print(red)\n",
    "print(yellow)\n",
    "```\n",
    "\n",
    "and replace `...` with your code that exchanges the contents of `red` and `yellow`, so that when you `run exchanger.py`  you see the following output:\n",
    "```\n",
    "cherry\n",
    "lemon\n",
    "```\n",
    "\n",
    "A solution where you just assign a different value to a variable, such as:\n",
    "```python\n",
    "red = \"cherry\"\n",
    "yellow = \"lemon\"\n",
    "```\n",
    "is not valid, you need to **exchange** the values.\n",
    "\n",
    "**Hint**: Imagine that you're in the kitchen and that by mistake you poured sugar in the container labelled SALT, and salt in the container labelled SUGAR. Unless you like sweet pasta and salty brownies, you probably want to exchange the contents of the containers. How would you do that?"
   ]
  },
  {
   "cell_type": "markdown",
   "metadata": {},
   "source": [
    "## Exercise: Show me your errors!\n",
    "\n",
    "In this exercise your goal is to get as many errors as possible to familiarize yourself with kinds of errors you might see when you are coding. Try typing in commands that will make Python complain (such as the division by zero we saw in the lecture).\n",
    "\n",
    "Try getting these errors:\n",
    "```python\n",
    "SyntaxError\n",
    "TypeError\n",
    "NameError\n",
    "```"
   ]
  },
  {
   "cell_type": "markdown",
   "metadata": {},
   "source": [
    "## Exercise: Displaying columns"
   ]
  },
  {
   "cell_type": "markdown",
   "metadata": {},
   "source": [
    "Find a way to print the two following strings columnwise:\n",
    "```python\n",
    "pet1 = 'cat'\n",
    "pet2 = 'dog'\n",
    "```\n",
    "\n",
    "The expected output should look like this:\n",
    "```\n",
    "c - d\n",
    "a - o\n",
    "t - g\n",
    "```\n",
    "\n",
    "**Hint**: you can access individual characters with square brackets `[]`, for example `pet1[0]` will produce `c`, the first character."
   ]
  },
  {
   "cell_type": "markdown",
   "metadata": {},
   "source": [
    "## Exercise: What a mess!\n",
    "\n",
    "What are the values and data types of `a`, `b`, `c` and `d` after running the following lines?"
   ]
  },
  {
   "cell_type": "code",
   "execution_count": null,
   "metadata": {},
   "outputs": [],
   "source": [
    "a = \"1.9\"\n",
    "b = a*2\n",
    "c = b[0:4]\n",
    "d = int(float(c))"
   ]
  },
  {
   "cell_type": "markdown",
   "metadata": {},
   "source": [
    "## Exercise: Words, words, words"
   ]
  },
  {
   "cell_type": "markdown",
   "metadata": {},
   "source": [
    "Given the following two strings:"
   ]
  },
  {
   "cell_type": "code",
   "execution_count": 3,
   "metadata": {},
   "outputs": [],
   "source": [
    "date1 = \"Thursday 21 Jun\"\n",
    "date2 = \"Friday 22 Jun\""
   ]
  },
  {
   "cell_type": "markdown",
   "metadata": {},
   "source": [
    "1) How would you extract the days of the week from each of the strings? (The expected output for `date1` is `Thursday` and for `date2` it is `Friday`).\n",
    "\n",
    "2) How would you create a new string called `date3` from `date1` and `date2` that is `2122`. \n",
    "\n",
    "3) How would you get the last three characters of each string?\n",
    "\n",
    "4) Create a new variable called `number_of_characters` that contains the number of characters in both `date1` and `date2`. You should not count characters by hand, instead use a function that is already available in Python (hint: we mentioned the function in the lecture today)."
   ]
  },
  {
   "cell_type": "markdown",
   "metadata": {},
   "source": [
    "In the following sub-exercise you will be practicing using \"after dot\" functions defined on strings. This part can be a bit tricky so feel free to ask us for hints or to look up things on the Internet.\n",
    "\n",
    "Python offers many \"ready\" functions to work with strings, as this is something programmers might often want. For example, if we want to convert only the first letter of a string to an upper case and everything else to lower case, we can use the function `capitalize` in the following way:"
   ]
  },
  {
   "cell_type": "code",
   "execution_count": 1,
   "metadata": {},
   "outputs": [
    {
     "name": "stdout",
     "output_type": "stream",
     "text": [
      "ivaNA\n",
      "Ivana\n"
     ]
    }
   ],
   "source": [
    "name = \"ivaNA\"\n",
    "print(name)\n",
    "print(name.capitalize())"
   ]
  },
  {
   "cell_type": "markdown",
   "metadata": {},
   "source": [
    "To see what can be done with strings, after typing dot (\".\") press the \"Tab\" key on your keyboard. IPython should give you suggestions of what can be done. Use arrow keys to select a function, or just type it. To read a short description of how to use that function, add `?` after the function name in IPython (i.e., `name.capitalize?`).\n",
    "\n",
    "1) Find a way to replace \"iv\" with \"BAN\". What is the output?\n",
    "\n",
    "2) How would you convert all characters into lower case letters (e.g., \"BANANA\" into \"banana\")?\n",
    "\n",
    "**Detective task**: How would you reverse a string? For example, the reverse of \"ivana\" is \"anavi\". You can use the Internet to help you with this one (it is not intuitive!)."
   ]
  }
 ],
 "metadata": {
  "kernelspec": {
   "display_name": "Python 2",
   "language": "python",
   "name": "python2"
  },
  "language_info": {
   "codemirror_mode": {
    "name": "ipython",
    "version": 3
   },
   "file_extension": ".py",
   "mimetype": "text/x-python",
   "name": "python",
   "nbconvert_exporter": "python",
   "pygments_lexer": "ipython3",
   "version": "3.5.3"
  }
 },
 "nbformat": 4,
 "nbformat_minor": 1
}
