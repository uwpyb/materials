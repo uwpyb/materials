{
 "cells": [
  {
   "cell_type": "markdown",
   "metadata": {},
   "source": [
    "# Day 0 Exercises\n",
    "\n",
    "\n",
    "Use IPython to work on the following exercises. They are ordered by complexity, starting with more simple ones.\n",
    "\n",
    "Use red sticky notes to signal to a mentor that you would like to talk to them: they can help you understand the programs and offer more information if you want to know more about something."
   ]
  },
  {
   "cell_type": "markdown",
   "metadata": {},
   "source": [
    "## Exercise: Warm-up\n",
    "\n",
    "Try predicting what each of these lines will print. Write your answers down and then type them in IPython to check. \n",
    "\n",
    "```python\n",
    "print(4-4.)\n",
    "print(4-.4)\n",
    "print(\"4\"+\"4\")\n",
    "print(str(4)+\"4\")\n",
    "print(\"4\"-\"4\")\n",
    "print(int(1/4))\n",
    "```\n",
    "\n",
    "Did you get the answers you expected? Can you explain why is there a dot at the output in the first line?"
   ]
  },
  {
   "cell_type": "markdown",
   "metadata": {},
   "source": [
    "## Exercise: Divisions\n",
    "\n",
    "What do you expect to see when you type following divisions in IPython? Try guessing first!\n",
    "```python\n",
    "1/\"1\"\n",
    "1/3\n",
    "0/1\n",
    "6/2*3\n",
    "1/2/3\n",
    "```\n",
    "\n",
    "Note: in Python version 2, 1/3 would return 0 because an operation on two integer numbers needs to return an integer, and it returns the closest integer."
   ]
  },
  {
   "cell_type": "markdown",
   "metadata": {},
   "source": [
    "## Exercise: Signs\n",
    "What will be the value of c at the end:\n",
    "\n",
    "```python\n",
    "a = -1\n",
    "b = a*a\n",
    "c = 2*a*b\n",
    "```"
   ]
  },
  {
   "cell_type": "markdown",
   "metadata": {},
   "source": [
    "## Exercise: Find a bug!\n",
    "\n",
    "Repair this program so it runs smoothly:\n",
    " \n",
    "```python\n",
    "My_FAV_Animal = \"unicorn\"\n",
    "print(\"My favorite animal is\" My_FAv_Animal)\n",
    "```\n",
    "\n",
    "How many mistakes did you find?"
   ]
  },
  {
   "cell_type": "markdown",
   "metadata": {},
   "source": [
    "## Exercise: Currency converter\n",
    "\n",
    "How much is 1234 CAD in EUR? And in GBP? Use the print command to print the message nicely. (1 CAD = 0.67 EUR, 1 CAD = 0.59 GBP)\n",
    "\n",
    "The expected output of the print statement would look like:\n",
    "\n",
    "`1 CAD is equal to 0.67 EUR`\n",
    "\n",
    "**Hint**: Your print statements should not look like this:\n",
    "```\n",
    "print(\"1 CAD is equal to 0.67 EUR\")\n",
    "```\n",
    "\n",
    "Instead, use variables to store the amounts and print the message by using them in the print statement."
   ]
  },
  {
   "cell_type": "markdown",
   "metadata": {},
   "source": [
    "## Exercise: Fruit exchange\n",
    "\n",
    "Write a piece of code that exchanges the value of two variables. Save this code in a script `exchanger.py`:\n",
    "```python\n",
    "red = \"lemon\"\n",
    "yellow = \"cherry\"\n",
    "```\n",
    "`...`\n",
    "\n",
    "```\n",
    "print(red)\n",
    "print(yellow)\n",
    "```\n",
    "\n",
    "and replace `...` with your code that exchanges the contents of `red` and `yellow`, so that when you `run exchanger.py`  you see the following output:\n",
    "```\n",
    "cherry\n",
    "lemon\n",
    "```\n",
    "\n",
    "A solution where you just assign a different value to a variable, such as:\n",
    "```python\n",
    "red = \"cherry\"\n",
    "yellow = \"lemon\"\n",
    "```\n",
    "is not valid, you need to exchange the values."
   ]
  },
  {
   "cell_type": "markdown",
   "metadata": {},
   "source": [
    "## Exercise: Show me your errors!\n",
    "\n",
    "In this exercise your goal is to get as many errors as possible to familiarize yourself with kinds of errors you might see when you are coding. Try typing in commands that will make Python complain (such as the division by zero we saw in the lecture).\n",
    "\n",
    "Try getting these errors:\n",
    "```python\n",
    "SyntaxError\n",
    "TypeError\n",
    "NameError\n",
    "```"
   ]
  },
  {
   "cell_type": "markdown",
   "metadata": {},
   "source": [
    "## Exercise: What a mess!\n",
    "\n",
    "What are the values and data types of `a`, `b`, `c` and `d` after running the following lines?"
   ]
  },
  {
   "cell_type": "code",
   "execution_count": null,
   "metadata": {},
   "outputs": [],
   "source": [
    "a = \"1.9\"\n",
    "b = a*2\n",
    "c = b[0:4]\n",
    "d = int(float(c))"
   ]
  },
  {
   "cell_type": "markdown",
   "metadata": {},
   "source": [
    "## Exercise: Words, words, words"
   ]
  },
  {
   "cell_type": "markdown",
   "metadata": {},
   "source": [
    "Given the following two strings:"
   ]
  },
  {
   "cell_type": "code",
   "execution_count": 3,
   "metadata": {},
   "outputs": [],
   "source": [
    "date1 = \"Thursday 16 Nov\"\n",
    "date2 = \"Friday 17 Nov\""
   ]
  },
  {
   "cell_type": "markdown",
   "metadata": {},
   "source": [
    "1) How would you extract the days of the week from each of the strings? (The expected output for `date`is `Thursday` and for `date2` it is `Friday`).\n",
    "\n",
    "2) How would you create a new string called `date3` from `date1` and `date2` that is `1617`. \n",
    "\n",
    "3) How would you get the last three characters of each string?\n",
    "\n",
    "4) Create a new variable called `number_of_characters` that contains the number of characters in both `date1` and `date2`. You should not count characters by hand, instead use a function that is already available in Python (hint: we mentioned the function in the lecture today)."
   ]
  },
  {
   "cell_type": "markdown",
   "metadata": {},
   "source": [
    "In the following sub-exercise you will be practicing using \"after dot\" functions defined on strings. This part can be a bit tricky so feel free to ask us for hints.\n",
    "\n",
    "In the lecture we mentioned the following example"
   ]
  },
  {
   "cell_type": "code",
   "execution_count": 1,
   "metadata": {},
   "outputs": [
    {
     "name": "stdout",
     "output_type": "stream",
     "text": [
      "ivaNA\n",
      "Ivana\n"
     ]
    }
   ],
   "source": [
    "name = \"ivaNA\"\n",
    "print(name)\n",
    "print(name.capitalize())"
   ]
  },
  {
   "cell_type": "markdown",
   "metadata": {},
   "source": [
    "To see what can be done with strings, after typing dot (\".\") press the \"Tab\" key on your keyboard. IPython should give you suggestions of what can be done. \n",
    "\n",
    "1) Find a way to replace \"iv\" with \"BAN\". What is the output?\n",
    "\n",
    "2) How would you convert all characters into low caps (e.g., \"IVANA\" into \"ivana\")?\n",
    "\n",
    "Hard (because it is not intuitive): How would you reverse a string? For example, the reverse of \"ivana\" is \"anavi\". You can use the Internet to help you with this one."
   ]
  }
 ],
 "metadata": {
  "kernelspec": {
   "display_name": "Python 2",
   "language": "python",
   "name": "python2"
  },
  "language_info": {
   "codemirror_mode": {
    "name": "ipython",
    "version": 3
   },
   "file_extension": ".py",
   "mimetype": "text/x-python",
   "name": "python",
   "nbconvert_exporter": "python",
   "pygments_lexer": "ipython3",
   "version": "3.5.3"
  }
 },
 "nbformat": 4,
 "nbformat_minor": 1
}
