{
 "cells": [
  {
   "cell_type": "markdown",
   "metadata": {
    "slideshow": {
     "slide_type": "slide"
    }
   },
   "source": [
    "# Programming Workshop for Beginners\n",
    "### Day 1: Laying the foundation\n",
    "### Saturday, Nov 12, 2016\n",
    "### University of Waterloo\n",
    "<img src=\"./files/foundation.jpg\" width=\"300\" >"
   ]
  },
  {
   "cell_type": "markdown",
   "metadata": {
    "slideshow": {
     "slide_type": "slide"
    }
   },
   "source": [
    "# Clarifications from yesterday...\n",
    "\n",
    "Why are we doing this? Most of you could benefit!\n",
    "    - processing data, making plots, research\n",
    "    - Friday and Saturday are a bit abstract\n",
    "    - Sunday will be more practical\n",
    "\n",
    "\n",
    "1. Use of non-Python commands\n",
    "\n",
    "2. More about variables\n",
    "\n",
    "3. After-the-dot functions\n"
   ]
  },
  {
   "cell_type": "markdown",
   "metadata": {
    "slideshow": {
     "slide_type": "slide"
    }
   },
   "source": [
    "## Schedule\n",
    "\n",
    "```\n",
    "10:00 - 11:00: Work\n",
    "11:00 - 11:10: Break\n",
    "11:10 - 12:15: Work\n",
    "\n",
    "12:15 - 13:00: Lunch\n",
    "13:00 - 14:45: Project\n",
    "14:45 - 15:00: Wrap up\n",
    "```\n",
    "\n",
    "\n"
   ]
  },
  {
   "cell_type": "markdown",
   "metadata": {
    "slideshow": {
     "slide_type": "slide"
    }
   },
   "source": [
    "Welcome to Day 1\n",
    "=========\n",
    "\n",
    "**Here's what we're going to cover today:**\n",
    "- Lists \n",
    "- More on strings\n",
    "- Conditions \n",
    "- Talking to the user using **`input()`**\n",
    "- Repeating steps with for loops\n",
    "- Dictionaries"
   ]
  },
  {
   "cell_type": "markdown",
   "metadata": {
    "slideshow": {
     "slide_type": "slide"
    }
   },
   "source": [
    "Slides available online at:\n",
    "- `http://uwpyb.github.io/materials/lectures/day_1.slides.html#/`\n",
    "\n",
    "Or if you want a shorter URL:\n",
    "- `http://goo.gl/7GtZqx`"
   ]
  },
  {
   "cell_type": "markdown",
   "metadata": {
    "slideshow": {
     "slide_type": "slide"
    }
   },
   "source": [
    "Lists: shelves full of items\n",
    "=======================\n",
    "<img src=\"./files/shelves.jpg\" width=\"400\" >"
   ]
  },
  {
   "cell_type": "code",
   "execution_count": 2,
   "metadata": {
    "collapsed": false,
    "slideshow": {
     "slide_type": "slide"
    }
   },
   "outputs": [
    {
     "name": "stdout",
     "output_type": "stream",
     "text": [
      "['apples', 'blueberries', 'chocolate']\n"
     ]
    }
   ],
   "source": [
    "groceries = [\"apples\", \"blueberries\", \"chocolate\"]\n",
    "print(groceries)"
   ]
  },
  {
   "cell_type": "code",
   "execution_count": 8,
   "metadata": {
    "collapsed": false
   },
   "outputs": [
    {
     "name": "stdout",
     "output_type": "stream",
     "text": [
      "apples\n"
     ]
    }
   ],
   "source": [
    "print(groceries[0])"
   ]
  },
  {
   "cell_type": "code",
   "execution_count": 9,
   "metadata": {
    "collapsed": false
   },
   "outputs": [
    {
     "name": "stdout",
     "output_type": "stream",
     "text": [
      "chocolate\n"
     ]
    }
   ],
   "source": [
    "print(groceries[2])"
   ]
  },
  {
   "cell_type": "code",
   "execution_count": 10,
   "metadata": {
    "collapsed": false
   },
   "outputs": [
    {
     "name": "stdout",
     "output_type": "stream",
     "text": [
      "chocolate\n"
     ]
    }
   ],
   "source": [
    "print(groceries[-1])"
   ]
  },
  {
   "cell_type": "markdown",
   "metadata": {
    "slideshow": {
     "slide_type": "slide"
    }
   },
   "source": [
    "What is the result of running the code **`print(groceries[3])`**?\n",
    "<p>\n",
    "a) Error<br>\n",
    "b) Chocolate<br>\n",
    "c) Apples"
   ]
  },
  {
   "cell_type": "markdown",
   "metadata": {
    "slideshow": {
     "slide_type": "slide"
    }
   },
   "source": [
    "We can change elements of a list:"
   ]
  },
  {
   "cell_type": "code",
   "execution_count": 11,
   "metadata": {
    "collapsed": false
   },
   "outputs": [
    {
     "name": "stdout",
     "output_type": "stream",
     "text": [
      "['apples', 'blueberries', 'cranberries']\n"
     ]
    }
   ],
   "source": [
    "groceries[2] = \"cranberries\"\n",
    "print(groceries)"
   ]
  },
  {
   "cell_type": "markdown",
   "metadata": {
    "slideshow": {
     "slide_type": "slide"
    }
   },
   "source": [
    "**`len()`** is like **`type()`**, you can put stuff into it (in between the parentheses) to get stuff out. In this case, the total amount of items in the list."
   ]
  },
  {
   "cell_type": "code",
   "execution_count": 3,
   "metadata": {
    "collapsed": false
   },
   "outputs": [
    {
     "data": {
      "text/plain": [
       "3"
      ]
     },
     "execution_count": 3,
     "metadata": {},
     "output_type": "execute_result"
    }
   ],
   "source": [
    "len(groceries)"
   ]
  },
  {
   "cell_type": "markdown",
   "metadata": {
    "slideshow": {
     "slide_type": "slide"
    }
   },
   "source": [
    "We can do similar things with strings!"
   ]
  },
  {
   "cell_type": "code",
   "execution_count": 5,
   "metadata": {
    "collapsed": false
   },
   "outputs": [
    {
     "name": "stdout",
     "output_type": "stream",
     "text": [
      "b\n"
     ]
    }
   ],
   "source": [
    "major = \"biochem\"\n",
    "print(major[0])"
   ]
  },
  {
   "cell_type": "code",
   "execution_count": 9,
   "metadata": {
    "collapsed": false
   },
   "outputs": [
    {
     "name": "stdout",
     "output_type": "stream",
     "text": [
      "m\n"
     ]
    }
   ],
   "source": [
    "print(major[-1])"
   ]
  },
  {
   "cell_type": "code",
   "execution_count": 12,
   "metadata": {
    "collapsed": false
   },
   "outputs": [
    {
     "data": {
      "text/plain": [
       "7"
      ]
     },
     "execution_count": 12,
     "metadata": {},
     "output_type": "execute_result"
    }
   ],
   "source": [
    "len(major)"
   ]
  },
  {
   "cell_type": "markdown",
   "metadata": {
    "slideshow": {
     "slide_type": "slide"
    }
   },
   "source": [
    "But with strings, you can't change parts of them afterwards:"
   ]
  },
  {
   "cell_type": "code",
   "execution_count": 13,
   "metadata": {
    "collapsed": false
   },
   "outputs": [
    {
     "ename": "TypeError",
     "evalue": "'str' object does not support item assignment",
     "output_type": "error",
     "traceback": [
      "\u001b[0;31m---------------------------------------------------------------------------\u001b[0m",
      "\u001b[0;31mTypeError\u001b[0m                                 Traceback (most recent call last)",
      "\u001b[0;32m<ipython-input-13-914a99bd4370>\u001b[0m in \u001b[0;36m<module>\u001b[0;34m()\u001b[0m\n\u001b[0;32m----> 1\u001b[0;31m \u001b[0mmajor\u001b[0m\u001b[0;34m[\u001b[0m\u001b[0;36m3\u001b[0m\u001b[0;34m]\u001b[0m \u001b[0;34m=\u001b[0m \u001b[0;34m't'\u001b[0m\u001b[0;34m\u001b[0m\u001b[0m\n\u001b[0m",
      "\u001b[0;31mTypeError\u001b[0m: 'str' object does not support item assignment"
     ]
    }
   ],
   "source": [
    "major[3] = 't'"
   ]
  },
  {
   "cell_type": "markdown",
   "metadata": {
    "slideshow": {
     "slide_type": "slide"
    }
   },
   "source": [
    "Python finds out the truth: comparisons\n",
    "==============="
   ]
  },
  {
   "cell_type": "code",
   "execution_count": 12,
   "metadata": {
    "collapsed": false
   },
   "outputs": [
    {
     "data": {
      "text/plain": [
       "True"
      ]
     },
     "execution_count": 12,
     "metadata": {},
     "output_type": "execute_result"
    }
   ],
   "source": [
    "5 > 3"
   ]
  },
  {
   "cell_type": "code",
   "execution_count": 13,
   "metadata": {
    "collapsed": false
   },
   "outputs": [
    {
     "data": {
      "text/plain": [
       "False"
      ]
     },
     "execution_count": 13,
     "metadata": {},
     "output_type": "execute_result"
    }
   ],
   "source": [
    "5 <= 2"
   ]
  },
  {
   "cell_type": "code",
   "execution_count": 14,
   "metadata": {
    "collapsed": false
   },
   "outputs": [
    {
     "data": {
      "text/plain": [
       "True"
      ]
     },
     "execution_count": 14,
     "metadata": {},
     "output_type": "execute_result"
    }
   ],
   "source": [
    "5 == 5"
   ]
  },
  {
   "cell_type": "code",
   "execution_count": 15,
   "metadata": {
    "collapsed": false
   },
   "outputs": [
    {
     "data": {
      "text/plain": [
       "False"
      ]
     },
     "execution_count": 15,
     "metadata": {},
     "output_type": "execute_result"
    }
   ],
   "source": [
    "\"pants\" == \"face\""
   ]
  },
  {
   "cell_type": "markdown",
   "metadata": {
    "slideshow": {
     "slide_type": "slide"
    }
   },
   "source": [
    "What will be the result of:\n",
    "```python\n",
    "participants = 33\n",
    "print(participants >= 33)\n",
    "```\n",
    "<p>\n",
    "a) True<br>\n",
    "b) False<br>\n",
    "c) Error<br>"
   ]
  },
  {
   "cell_type": "markdown",
   "metadata": {
    "slideshow": {
     "slide_type": "slide"
    }
   },
   "source": [
    "Python finds out the truth: membership\n",
    "==============="
   ]
  },
  {
   "cell_type": "code",
   "execution_count": 16,
   "metadata": {
    "collapsed": false,
    "slideshow": {
     "slide_type": "-"
    }
   },
   "outputs": [
    {
     "data": {
      "text/plain": [
       "True"
      ]
     },
     "execution_count": 16,
     "metadata": {},
     "output_type": "execute_result"
    }
   ],
   "source": [
    "\"a\" in \"face\""
   ]
  },
  {
   "cell_type": "code",
   "execution_count": 17,
   "metadata": {
    "collapsed": false
   },
   "outputs": [
    {
     "data": {
      "text/plain": [
       "False"
      ]
     },
     "execution_count": 17,
     "metadata": {},
     "output_type": "execute_result"
    }
   ],
   "source": [
    "\"b\" in \"pants\""
   ]
  },
  {
   "cell_type": "code",
   "execution_count": 18,
   "metadata": {
    "collapsed": false
   },
   "outputs": [
    {
     "data": {
      "text/plain": [
       "True"
      ]
     },
     "execution_count": 18,
     "metadata": {},
     "output_type": "execute_result"
    }
   ],
   "source": [
    "\"ice\" in [\"I\", \"scream\", \"for\", \"ice\", \"cream\"] "
   ]
  },
  {
   "cell_type": "markdown",
   "metadata": {
    "slideshow": {
     "slide_type": "slide"
    }
   },
   "source": [
    "What will be the result of:\n",
    "```python\n",
    "\"put\" in \"computer\"\n",
    "```\n",
    "<p>\n",
    "a) True<br>\n",
    "b) False<br>\n",
    "c) Error<br>"
   ]
  },
  {
   "cell_type": "markdown",
   "metadata": {
    "collapsed": true,
    "slideshow": {
     "slide_type": "slide"
    }
   },
   "source": [
    "Conditions\n",
    "======="
   ]
  },
  {
   "cell_type": "code",
   "execution_count": 19,
   "metadata": {
    "collapsed": false
   },
   "outputs": [
    {
     "name": "stdout",
     "output_type": "stream",
     "text": [
      "Go for a walk!\n"
     ]
    }
   ],
   "source": [
    "weather = \"sunny\"\n",
    "if weather == \"sunny\":\n",
    "    print(\"Go for a walk!\")"
   ]
  },
  {
   "cell_type": "markdown",
   "metadata": {},
   "source": [
    "What happens if you change the first line to **`today = \"rainy\"`**?\n",
    "\n",
    "<p>\n",
    "a) Error<br>\n",
    "b) No output<br>\n",
    "c) \"Go for a walk!\"<br>"
   ]
  },
  {
   "cell_type": "code",
   "execution_count": 20,
   "metadata": {
    "collapsed": false,
    "slideshow": {
     "slide_type": "slide"
    }
   },
   "outputs": [
    {
     "name": "stdout",
     "output_type": "stream",
     "text": [
      "Go for a walk!\n"
     ]
    }
   ],
   "source": [
    "weather = \"sunny\"\n",
    "if weather == \"sunny\":\n",
    "    print(\"Go for a walk!\")\n",
    "if weather == \"rainy\":\n",
    "    print(\"Do your work!\")"
   ]
  },
  {
   "cell_type": "markdown",
   "metadata": {},
   "source": [
    "Now what happens if you change the first line to **`today = \"rainy\"`**?"
   ]
  },
  {
   "cell_type": "markdown",
   "metadata": {
    "slideshow": {
     "slide_type": "slide"
    }
   },
   "source": [
    "**`else`** is a catch-all."
   ]
  },
  {
   "cell_type": "code",
   "execution_count": 21,
   "metadata": {
    "collapsed": false,
    "slideshow": {
     "slide_type": "-"
    }
   },
   "outputs": [
    {
     "name": "stdout",
     "output_type": "stream",
     "text": [
      "Go for a walk!\n"
     ]
    }
   ],
   "source": [
    "weather = \"sunny\"\n",
    "if weather == \"sunny\":\n",
    "    print(\"Go for a walk!\")\n",
    "else:\n",
    "    print(\"Do your work!\")"
   ]
  },
  {
   "cell_type": "markdown",
   "metadata": {
    "slideshow": {
     "slide_type": "slide"
    }
   },
   "source": [
    "What if you want to go for a walk when it is either sunny or cloudy?"
   ]
  },
  {
   "cell_type": "code",
   "execution_count": 22,
   "metadata": {
    "collapsed": false,
    "slideshow": {
     "slide_type": "-"
    }
   },
   "outputs": [
    {
     "name": "stdout",
     "output_type": "stream",
     "text": [
      "Go for a walk!\n"
     ]
    }
   ],
   "source": [
    "weather = \"sunny\"\n",
    "if weather == \"sunny\" or \"cloudy\":\n",
    "    print(\"Go for a walk!\")\n",
    "else:\n",
    "    print(\"Do your work!\")"
   ]
  },
  {
   "cell_type": "markdown",
   "metadata": {
    "slideshow": {
     "slide_type": "slide"
    }
   },
   "source": [
    "What if your only day off is Saturday?"
   ]
  },
  {
   "cell_type": "code",
   "execution_count": 23,
   "metadata": {
    "collapsed": false,
    "slideshow": {
     "slide_type": "-"
    }
   },
   "outputs": [
    {
     "name": "stdout",
     "output_type": "stream",
     "text": [
      "Go for a walk!\n"
     ]
    }
   ],
   "source": [
    "weather = \"sunny\"\n",
    "today = \"Saturday\"\n",
    "if weather == \"sunny\" and today == \"Saturday\":\n",
    "    print(\"Go for a walk!\")\n",
    "else:\n",
    "    print(\"Do your work!\")"
   ]
  },
  {
   "cell_type": "markdown",
   "metadata": {
    "slideshow": {
     "slide_type": "slide"
    }
   },
   "source": [
    "Talking to People\n",
    "================="
   ]
  },
  {
   "cell_type": "code",
   "execution_count": 24,
   "metadata": {
    "collapsed": false
   },
   "outputs": [
    {
     "name": "stdout",
     "output_type": "stream",
     "text": [
      "What's your name?Mariah\n",
      "Hello Mariah\n"
     ]
    }
   ],
   "source": [
    "name = input(\"What's your name?\")\n",
    "print(\"Hello \" + name)"
   ]
  },
  {
   "cell_type": "markdown",
   "metadata": {
    "slideshow": {
     "slide_type": "slide"
    }
   },
   "source": [
    "Why doesn't the following code work? And how can we fix it?"
   ]
  },
  {
   "cell_type": "code",
   "execution_count": null,
   "metadata": {
    "collapsed": false
   },
   "outputs": [],
   "source": [
    "age = input(\"How old are you?\")\n",
    "print(age + 7)"
   ]
  },
  {
   "cell_type": "markdown",
   "metadata": {
    "slideshow": {
     "slide_type": "slide"
    }
   },
   "source": [
    "Example: Cupcake Dispenser\n",
    "===============\n",
    "\n",
    "A person puts in the amount of cupcakes they want and this program returns the total amount they have to pay. The cupcakes are 1.25$ each and only 5 cupcakes can be made at a time."
   ]
  },
  {
   "cell_type": "code",
   "execution_count": 25,
   "metadata": {
    "collapsed": false,
    "slideshow": {
     "slide_type": "-"
    }
   },
   "outputs": [
    {
     "name": "stdout",
     "output_type": "stream",
     "text": [
      "Enter the amount of cupcakes you desire: 7\n",
      "We can only make 5 cupcakes at a time!\n"
     ]
    }
   ],
   "source": [
    "user_input = input(\"Enter the amount of cupcakes you desire: \")\n",
    "amount = int(user_input)\n",
    "if amount <= 5:\n",
    "    cost = amount * 1.25\n",
    "    print(\"Your order costs\", cost)\n",
    "else:\n",
    "    print(\"We can only make 5 cupcakes at a time!\")"
   ]
  },
  {
   "cell_type": "markdown",
   "metadata": {
    "slideshow": {
     "slide_type": "slide"
    }
   },
   "source": [
    "Exercise: Pizzeria\n",
    "===============\n",
    "\n",
    "A person puts in the number of slices they want, and how much money they have. A slice of pizza costs $1.50, and the program calculates the total cost of the slices. If the person doesn't have enough money, they must try again. If they do have enough money, their change is calculated.\n",
    "\n",
    "Here are the lines of code you'll need. Put them in the right order **and with the right indentation!**\n",
    "<p>\n",
    "-------\n",
    "```python\n",
    "slices = int(slices_input)\n",
    "```\n",
    "-------\n",
    "```python\n",
    "print(\"Here is your change:\", change)\n",
    "```\n",
    "-------\n",
    "```python\n",
    "slices_input = input(\"Enter how many slices of pizza you want:\")\n",
    "```\n",
    "-------\n",
    "```python\n",
    "if total_cost > money:\n",
    "```\n",
    "-------\n",
    "```python\n",
    "else:\n",
    "```\n",
    "-------\n",
    "```python\n",
    "print(\"You do not have enough money to buy this much pizza!\")\n",
    "```\n",
    "-------\n",
    "```python\n",
    "total_cost = slices * 1.5\n",
    "```\n",
    "-------\n",
    "```python\n",
    "money_input = input(\"Enter how many dollars you have: \")\n",
    "```\n",
    "-------\n",
    "```python\n",
    "money = int(money_input)\n",
    "```\n",
    "-------\n",
    "```python\n",
    "change = money - total_cost\n",
    "```\n",
    "-------\n"
   ]
  },
  {
   "cell_type": "code",
   "execution_count": 26,
   "metadata": {
    "collapsed": false,
    "slideshow": {
     "slide_type": "slide"
    }
   },
   "outputs": [
    {
     "name": "stdout",
     "output_type": "stream",
     "text": [
      "Enter how many slices of pizza you want: 12\n",
      "Enter how many dollars you have: 30\n",
      "Here is your change: 12.0\n"
     ]
    }
   ],
   "source": [
    "slices_input = input(\"Enter how many slices of pizza you want: \")\n",
    "money_input = input(\"Enter how many dollars you have: \")\n",
    "slices = int(slices_input)\n",
    "money = int(money_input)\n",
    "total_cost = slices * 1.5\n",
    "if total_cost > money:\n",
    "    print(\"You do not have enough money to buy this much pizza!\")\n",
    "else:\n",
    "    change = money - total_cost\n",
    "    print(\"Here is your change:\", change)"
   ]
  },
  {
   "cell_type": "markdown",
   "metadata": {
    "slideshow": {
     "slide_type": "slide"
    }
   },
   "source": [
    "Repeating actions with loops\n",
    "================\n",
    "\n",
    "Problem: we want to do something a certain amount of times or we want to do something to each part of a list"
   ]
  },
  {
   "cell_type": "code",
   "execution_count": 27,
   "metadata": {
    "collapsed": true
   },
   "outputs": [],
   "source": [
    "names = [\"Alan\", \"Irish\", \"Ryan\", \"Sajed\", \"Stacy\"]"
   ]
  },
  {
   "cell_type": "code",
   "execution_count": 28,
   "metadata": {
    "collapsed": false
   },
   "outputs": [
    {
     "name": "stdout",
     "output_type": "stream",
     "text": [
      "Hi Alan\n",
      "Hi Irish\n",
      "Hi Ryan\n",
      "Hi Sajed\n",
      "Hi Stacy\n"
     ]
    }
   ],
   "source": [
    "print(\"Hi \" + names[0])\n",
    "print(\"Hi \" + names[1])\n",
    "print(\"Hi \" + names[2])\n",
    "print(\"Hi \" + names[3])\n",
    "print(\"Hi \" + names[4])"
   ]
  },
  {
   "cell_type": "markdown",
   "metadata": {},
   "source": [
    "Is there a faster way to do this?"
   ]
  },
  {
   "cell_type": "code",
   "execution_count": 29,
   "metadata": {
    "collapsed": false,
    "slideshow": {
     "slide_type": "slide"
    }
   },
   "outputs": [
    {
     "name": "stdout",
     "output_type": "stream",
     "text": [
      "Hi Alan\n",
      "Hi Irish\n",
      "Hi Ryan\n",
      "Hi Sajed\n",
      "Hi Stacy\n"
     ]
    }
   ],
   "source": [
    "for name in names:\n",
    "    print(\"Hi \" + name)"
   ]
  },
  {
   "cell_type": "markdown",
   "metadata": {
    "slideshow": {
     "slide_type": "slide"
    }
   },
   "source": [
    "Let's take a closer look at how for loops work"
   ]
  },
  {
   "cell_type": "code",
   "execution_count": 30,
   "metadata": {
    "collapsed": false
   },
   "outputs": [
    {
     "name": "stdout",
     "output_type": "stream",
     "text": [
      "1\n",
      "2\n",
      "3\n",
      "4\n"
     ]
    }
   ],
   "source": [
    "for x in [1, 2, 3, 4]:\n",
    "    print(x)"
   ]
  },
  {
   "cell_type": "markdown",
   "metadata": {
    "slideshow": {
     "slide_type": "slide"
    }
   },
   "source": [
    "## A conceptual example\n",
    "\n",
    "To \"process\" a letter:\n",
    "\n",
    "1. Open it\n",
    "2. Read it\n",
    "3. Sort it into \"important\" or \"junk\"\n",
    "\n",
    "We want to do this **for** each letter in the pile"
   ]
  },
  {
   "cell_type": "markdown",
   "metadata": {
    "slideshow": {
     "slide_type": "slide"
    }
   },
   "source": [
    "<img src=\"./files/for_loop_picture.jpg\" width=\"500\" >"
   ]
  },
  {
   "cell_type": "markdown",
   "metadata": {
    "slideshow": {
     "slide_type": "slide"
    }
   },
   "source": [
    "In real syntax:\n",
    "\n",
    "```python\n",
    "for letter in pile_of_letters:\n",
    "    open(letter)\n",
    "    read(letter)\n",
    "    sort(letter)\n",
    "    ```"
   ]
  },
  {
   "cell_type": "markdown",
   "metadata": {
    "slideshow": {
     "slide_type": "slide"
    }
   },
   "source": [
    "What if we want to do something a certain amount of times? Like make a certain amount of pies?"
   ]
  },
  {
   "cell_type": "code",
   "execution_count": 31,
   "metadata": {
    "collapsed": false
   },
   "outputs": [
    {
     "name": "stdout",
     "output_type": "stream",
     "text": [
      "0 pies\n",
      "1 pies\n",
      "2 pies\n",
      "3 pies\n",
      "4 pies\n"
     ]
    }
   ],
   "source": [
    "for pie in range(5):\n",
    "    print(pie, \"pies\")"
   ]
  },
  {
   "cell_type": "markdown",
   "metadata": {
    "slideshow": {
     "slide_type": "slide"
    }
   },
   "source": [
    "How **`len()`** works (roughly)!"
   ]
  },
  {
   "cell_type": "code",
   "execution_count": 32,
   "metadata": {
    "collapsed": false
   },
   "outputs": [
    {
     "name": "stdout",
     "output_type": "stream",
     "text": [
      "10\n"
     ]
    }
   ],
   "source": [
    "counter = 0\n",
    "for item in [\"q\",\"w\", \"e\", \"r\", \"t\", \"y\", \"u\", \"i\", \"o\", \"p\"]:\n",
    "    counter = counter + 1\n",
    "print(counter)"
   ]
  },
  {
   "cell_type": "markdown",
   "metadata": {
    "slideshow": {
     "slide_type": "slide"
    }
   },
   "source": [
    "Exercise: Tweet validator\n",
    "==============\n",
    "\n",
    "Tweets are these messages you post on the Internet that have to be 140 characters long. How can we make sure that a given string is the appropriate length? Print out the length of the string and whether it is valid or not.\n",
    "\n",
    "For example, given **`tweet = \"OMG Python!\"`** the output should be:\n",
    "```\n",
    "11\n",
    "Valid\n",
    "```"
   ]
  },
  {
   "cell_type": "markdown",
   "metadata": {},
   "source": [
    "Fill in the `BLANK`s!"
   ]
  },
  {
   "cell_type": "code",
   "execution_count": null,
   "metadata": {
    "collapsed": true
   },
   "outputs": [],
   "source": [
    "tweet = \"OMG Python!\"\n",
    "count = 0\n",
    "for char in tweet:\n",
    "    BLANKBLANKBLANK\n",
    "print(count)\n",
    "if BLANKBLANKBLANK:\n",
    "    print(\"Valid\")\n",
    "else:\n",
    "    print(\"Invalid\")"
   ]
  },
  {
   "cell_type": "markdown",
   "metadata": {
    "slideshow": {
     "slide_type": "slide"
    }
   },
   "source": [
    "**Hint:**\n",
    "How do we count the number of characters in a tweet?"
   ]
  },
  {
   "cell_type": "markdown",
   "metadata": {
    "slideshow": {
     "slide_type": "slide"
    }
   },
   "source": [
    "**Hint:** When is a tweet valid?"
   ]
  },
  {
   "cell_type": "code",
   "execution_count": null,
   "metadata": {
    "collapsed": false,
    "slideshow": {
     "slide_type": "slide"
    }
   },
   "outputs": [],
   "source": [
    "tweet = \"OMG Python!\"\n",
    "count = 0\n",
    "for char in tweet:\n",
    "    count = count + 1\n",
    "print(count)\n",
    "if count <= 140:\n",
    "    print(\"Valid\")\n",
    "else:\n",
    "    print(\"Invalid\")"
   ]
  },
  {
   "cell_type": "code",
   "execution_count": null,
   "metadata": {
    "collapsed": false
   },
   "outputs": [],
   "source": [
    "count = len(tweet)\n",
    "print(count)\n",
    "if count <= 140:\n",
    "    print(\"Valid\")\n",
    "else:\n",
    "    print(\"Invalid\")"
   ]
  },
  {
   "cell_type": "markdown",
   "metadata": {
    "slideshow": {
     "slide_type": "slide"
    }
   },
   "source": [
    "Exercise: Processing Grades\n",
    "===============\n",
    "\n",
    "Given a list of grades, **`grades = [81, 70, 60, 91]`**, print the average and the number of grades above 80.\n",
    "In this case:\n",
    "```\n",
    "Average 75.5\n",
    "Number of good grades 2\n",
    "```\n"
   ]
  },
  {
   "cell_type": "markdown",
   "metadata": {
    "slideshow": {
     "slide_type": "slide"
    }
   },
   "source": [
    "**Hint:** Start by thinking about how to calculate the average grade.\n",
    "\n",
    "Get this working first!"
   ]
  },
  {
   "cell_type": "markdown",
   "metadata": {
    "slideshow": {
     "slide_type": "slide"
    }
   },
   "source": [
    "**Hint:** Then think about how to count the number of grades above 80"
   ]
  },
  {
   "cell_type": "code",
   "execution_count": null,
   "metadata": {
    "collapsed": false,
    "slideshow": {
     "slide_type": "slide"
    }
   },
   "outputs": [],
   "source": [
    "# Python is great for data processing\n",
    "grades = [81, 70, 60, 91]\n",
    "good_grades = 0\n",
    "avg = 0\n",
    "for grade in grades:\n",
    "    if grade >= 80:\n",
    "        print(\"WOW! \" + str(grade))\n",
    "        good_grades = good_grades + 1\n",
    "    avg += grade\n",
    "avg = avg/len(grades)\n",
    "print(\"Average \" + str(avg))\n",
    "print(\"Number of good grades \" + str(good_grades))"
   ]
  },
  {
   "cell_type": "markdown",
   "metadata": {
    "slideshow": {
     "slide_type": "slide"
    }
   },
   "source": [
    "Dictionaries: Data type that stores associations\n",
    "============================"
   ]
  },
  {
   "cell_type": "markdown",
   "metadata": {},
   "source": [
    "<img src=\"./files/dictionary.jpg\" width=\"400\" >"
   ]
  },
  {
   "cell_type": "code",
   "execution_count": 1,
   "metadata": {
    "collapsed": false,
    "slideshow": {
     "slide_type": "slide"
    }
   },
   "outputs": [],
   "source": [
    "capitals = {\"Ontario\":\"Toronto\", \"Canada\":\"Ottawa\", \"Croatia\":\"Zagreb\"}"
   ]
  },
  {
   "cell_type": "markdown",
   "metadata": {},
   "source": [
    "Notice the `{}` and `:`."
   ]
  },
  {
   "cell_type": "markdown",
   "metadata": {},
   "source": [
    "<img src=\"./files/dictionary_capital.png\" width=\"300\" \\>"
   ]
  },
  {
   "cell_type": "markdown",
   "metadata": {
    "slideshow": {
     "slide_type": "slide"
    }
   },
   "source": [
    "## Access values in a dictionary"
   ]
  },
  {
   "cell_type": "code",
   "execution_count": 10,
   "metadata": {
    "collapsed": true
   },
   "outputs": [],
   "source": [
    "capitals = {\"Ontario\":\"Toronto\", \"Canada\":\"Ottawa\", \"Croatia\":\"Zagreb\"}"
   ]
  },
  {
   "cell_type": "code",
   "execution_count": 12,
   "metadata": {
    "collapsed": false
   },
   "outputs": [
    {
     "data": {
      "text/plain": [
       "'Toronto'"
      ]
     },
     "execution_count": 12,
     "metadata": {},
     "output_type": "execute_result"
    }
   ],
   "source": [
    "capitals[\"Ontario\"]"
   ]
  },
  {
   "cell_type": "code",
   "execution_count": 11,
   "metadata": {
    "collapsed": false,
    "scrolled": true,
    "slideshow": {
     "slide_type": "-"
    }
   },
   "outputs": [
    {
     "name": "stdout",
     "output_type": "stream",
     "text": [
      "capitals['Ontario']: Toronto\n"
     ]
    }
   ],
   "source": [
    "print(\"capitals['Ontario']: \" + capitals[\"Ontario\"])"
   ]
  },
  {
   "cell_type": "markdown",
   "metadata": {
    "collapsed": false
   },
   "source": [
    "What's the output when we run **`print(capitals[0])`** ?\n",
    "\n",
    "<p>\n",
    "a) Error <br>\n",
    "b) 'Ontatio' <br>\n",
    "c) 'Toronto' <br>"
   ]
  },
  {
   "cell_type": "code",
   "execution_count": 13,
   "metadata": {
    "collapsed": false,
    "slideshow": {
     "slide_type": "slide"
    }
   },
   "outputs": [
    {
     "ename": "KeyError",
     "evalue": "0",
     "output_type": "error",
     "traceback": [
      "\u001b[0;31m------------------------------------------------------------\u001b[0m",
      "\u001b[0;31mKeyError\u001b[0m                   Traceback (most recent call last)",
      "\u001b[0;32m<ipython-input-13-83dbaf34c3b7>\u001b[0m in \u001b[0;36m<module>\u001b[0;34m()\u001b[0m\n\u001b[1;32m      1\u001b[0m \u001b[0mcapitals\u001b[0m \u001b[0;34m=\u001b[0m \u001b[0;34m{\u001b[0m\u001b[0;34m\"Ontario\"\u001b[0m\u001b[0;34m:\u001b[0m\u001b[0;34m\"Toronto\"\u001b[0m\u001b[0;34m,\u001b[0m \u001b[0;34m\"Canada\"\u001b[0m\u001b[0;34m:\u001b[0m\u001b[0;34m\"Ottawa\"\u001b[0m\u001b[0;34m,\u001b[0m \u001b[0;34m\"Croatia\"\u001b[0m\u001b[0;34m:\u001b[0m\u001b[0;34m\"Zagreb\"\u001b[0m\u001b[0;34m}\u001b[0m\u001b[0;34m\u001b[0m\u001b[0m\n\u001b[0;32m----> 2\u001b[0;31m \u001b[0;32mprint\u001b[0m\u001b[0;34m(\u001b[0m\u001b[0mcapitals\u001b[0m\u001b[0;34m[\u001b[0m\u001b[0;36m0\u001b[0m\u001b[0;34m]\u001b[0m\u001b[0;34m)\u001b[0m\u001b[0;34m\u001b[0m\u001b[0m\n\u001b[0m",
      "\u001b[0;31mKeyError\u001b[0m: 0"
     ]
    }
   ],
   "source": [
    "capitals = {\"Ontario\":\"Toronto\", \"Canada\":\"Ottawa\", \"Croatia\":\"Zagreb\"}\n",
    "print(capitals[0])"
   ]
  },
  {
   "cell_type": "markdown",
   "metadata": {},
   "source": [
    "There is no index in dictionaries. To access a value, we need to go through the key associated with that value."
   ]
  },
  {
   "cell_type": "markdown",
   "metadata": {
    "slideshow": {
     "slide_type": "slide"
    }
   },
   "source": [
    "## Loop and dictionary"
   ]
  },
  {
   "cell_type": "code",
   "execution_count": 4,
   "metadata": {
    "collapsed": true,
    "slideshow": {
     "slide_type": "-"
    }
   },
   "outputs": [],
   "source": [
    "capitals = {\"Ontario\":\"Toronto\", \"Canada\":\"Ottawa\", \"Croatia\":\"Zagreb\"}"
   ]
  },
  {
   "cell_type": "markdown",
   "metadata": {},
   "source": [
    "Although dictionary is not a list, it has SOME of the same properties of a list."
   ]
  },
  {
   "cell_type": "code",
   "execution_count": 15,
   "metadata": {
    "collapsed": false
   },
   "outputs": [
    {
     "name": "stdout",
     "output_type": "stream",
     "text": [
      "Canada: Ottawa\n",
      "Ontario: Toronto\n",
      "Croatia: Zagreb\n"
     ]
    }
   ],
   "source": [
    "for place in capitals:\n",
    "    print(place + \": \" + capitals[place])"
   ]
  },
  {
   "cell_type": "markdown",
   "metadata": {},
   "source": [
    "Why don't we use `capitals[\"place\"]` here?"
   ]
  },
  {
   "cell_type": "markdown",
   "metadata": {
    "slideshow": {
     "slide_type": "slide"
    }
   },
   "source": [
    "Exercise: Quiz the Capitals\n",
    "===============\n",
    "\n",
    "Given the capitals dictionary from before, make a flash card-like quiz, where every location is the question and the capital is the answer.\n",
    "\n",
    "Your output, with the user entering the answers, should look like:\n",
    "```\n",
    "What is the capital of Croatia? Zagreb\n",
    "Right answer!\n",
    "What is the capital of Canada? Quebec\n",
    "Sorry, the answer was Ottawa\n",
    "```"
   ]
  },
  {
   "cell_type": "markdown",
   "metadata": {
    "slideshow": {
     "slide_type": "slide"
    }
   },
   "source": [
    "<p>\n",
    "**Hint:** <br>\n",
    "- Loop through the dictionary <br>\n",
    "- Ask user to answer the capital <br>\n",
    "- Create a variable that stores the user's answer <br>\n",
    "- Give feedback on whether the answer is correct <br>\n",
    "\n",
    "<p>\n",
    "You are encouraged to write this program yourself, but there is some skeleton code on the next slide if you want more hints."
   ]
  },
  {
   "cell_type": "code",
   "execution_count": null,
   "metadata": {
    "collapsed": false,
    "slideshow": {
     "slide_type": "slide"
    }
   },
   "outputs": [],
   "source": [
    "for ________ in _______:\n",
    "    _______ = input(________)\n",
    "    if ________ :\n",
    "        print(________________)\n",
    "    else:\n",
    "        print(________________)"
   ]
  },
  {
   "cell_type": "code",
   "execution_count": null,
   "metadata": {
    "collapsed": false,
    "slideshow": {
     "slide_type": "slide"
    }
   },
   "outputs": [],
   "source": [
    "for place in capitals:\n",
    "    answer = input(\"What is the capital of \" + place + \"? \")\n",
    "    if capitals[place] == answer:\n",
    "        print(\"Right answer!\")\n",
    "    else:\n",
    "        print(\"Sorry, the answer was \" + capitals[place])"
   ]
  },
  {
   "cell_type": "markdown",
   "metadata": {
    "slideshow": {
     "slide_type": "slide"
    }
   },
   "source": [
    "What We Learned Today\n",
    "-------------------------\n",
    "\n",
    "- data types\n",
    "    - strings\n",
    "    - ints\n",
    "    - booleans\n",
    "    - lists\n",
    "    - dicts\n",
    "- if-statements\n",
    "- loops"
   ]
  },
  {
   "cell_type": "markdown",
   "metadata": {
    "slideshow": {
     "slide_type": "slide"
    }
   },
   "source": [
    "## Project Day 1\n",
    "\n",
    "Link:\n",
    "\n",
    "https://github.com/uwpyb/materials/blob/master/projects/Day1_Quiz.ipynb"
   ]
  }
 ],
 "metadata": {
  "celltoolbar": "Slideshow",
  "kernelspec": {
   "display_name": "Python 2",
   "language": "python",
   "name": "python2"
  },
  "language_info": {
   "codemirror_mode": {
    "name": "ipython",
    "version": 2
   },
   "file_extension": ".py",
   "mimetype": "text/x-python",
   "name": "python",
   "nbconvert_exporter": "python",
   "pygments_lexer": "ipython2",
   "version": "2.7.9"
  }
 },
 "nbformat": 4,
 "nbformat_minor": 0
}
