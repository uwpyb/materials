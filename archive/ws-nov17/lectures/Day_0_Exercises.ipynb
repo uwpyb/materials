{
 "cells": [
  {
   "cell_type": "markdown",
   "metadata": {},
   "source": [
    "# Day 0 Exercises\n",
    "\n",
    "\n",
    "Use the IPython to work on following exercises. Exercises are ordered by complexity, starting with more simple ones.\n",
    "\n",
    "Use red sticky notes to signalize a mentor you would like to talk to them: they can help you understand the programs and offer more information if you want to know more about something."
   ]
  },
  {
   "cell_type": "markdown",
   "metadata": {},
   "source": [
    "## Exercise: Warm-up\n",
    "\n",
    "Try predicting what each of this lines will print. Write your answers down and then type them in IPython to check. \n",
    "\n",
    "```python\n",
    "print(4-4)\n",
    "print(4-4.)\n",
    "print(\"4\" + \"4\")\n",
    "print(\"4\" - \"4\")\n",
    "```\n",
    "\n",
    "Did you get the answers you expected? Can you explain why is there a dot in the second line?"
   ]
  },
  {
   "cell_type": "markdown",
   "metadata": {},
   "source": [
    "## Exercise: Divisions\n",
    "\n",
    "What do you expect to see when you type following divisions in IPython? Try guessing first!\n",
    "```python\n",
    "1/3\n",
    "1/0\n",
    "```\n",
    "\n",
    "Note: in Python 2 version 1/3 would return 0 because operation on two integer numbers would need to return an integer, and Python 2 would return the closest integer."
   ]
  },
  {
   "cell_type": "markdown",
   "metadata": {},
   "source": [
    "## Exercise: Signs\n",
    "What will be the value of c at the end:\n",
    "\n",
    "```python\n",
    "a = -1\n",
    "b = a*a\n",
    "c = 2*a*b\n",
    "```"
   ]
  },
  {
   "cell_type": "markdown",
   "metadata": {},
   "source": [
    "## Exercise: Find a bug!\n",
    "\n",
    "Repair this program so it runs smoothly:\n",
    " \n",
    "```python\n",
    "My_FAV_Animal = \"unicorn\"\n",
    "print(\"My favorite animal is\" My_FAv_Animal)\n",
    "```\n",
    "\n",
    "How many mistakes did you find?"
   ]
  },
  {
   "cell_type": "markdown",
   "metadata": {},
   "source": [
    "## Exercise: Currency converter\n",
    "\n",
    "How much is 1234 CAD in EUR? And in GBP? Use the print command to print the message nicely. (1 CAD = 0.68 EUR, 1 CAD = 0.61 GBP)"
   ]
  },
  {
   "cell_type": "markdown",
   "metadata": {},
   "source": [
    "## Exercise: Fruit exchange\n",
    "\n",
    "Write a piece of code that exchanges the value of two variables. Save this code in a script `exchanger.py`:\n",
    "```python\n",
    "red = \"lemon\"\n",
    "yellow = \"cherry\"\n",
    "\n",
    "...\n",
    "\n",
    "print(red)\n",
    "print(yellow)\n",
    "```\n",
    "\n",
    "and replace `...` with your code that exchanges the contents of `red` and `yellow`, so that the when you do `run exchanger.py`  you see the following output:\n",
    "```\n",
    "cherry\n",
    "lemon\n",
    "```"
   ]
  },
  {
   "cell_type": "markdown",
   "metadata": {},
   "source": [
    "## Exercise: Show me your errors!\n",
    "\n",
    "In this exercise your goal is to get as many errors as possible! Try typing in commands that will make Python complain (such as the division by zero in the \"Divisions\" exercise).\n",
    "\n",
    "Try getting these errors:\n",
    "```python\n",
    "SyntaxError\n",
    "TypeError\n",
    "NameError\n",
    "ValueError\n",
    "```"
   ]
  }
 ],
 "metadata": {
  "kernelspec": {
   "display_name": "Python 2",
   "language": "python",
   "name": "python2"
  },
  "language_info": {
   "codemirror_mode": {
    "name": "ipython",
    "version": 2
   },
   "file_extension": ".py",
   "mimetype": "text/x-python",
   "name": "python",
   "nbconvert_exporter": "python",
   "pygments_lexer": "ipython2",
   "version": "2.7.9"
  }
 },
 "nbformat": 4,
 "nbformat_minor": 1
}
