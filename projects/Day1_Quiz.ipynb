{
 "cells": [
  {
   "cell_type": "markdown",
   "metadata": {},
   "source": [
    "#  Project: Make your own Quiz\n",
    "### Programming for Beginners Workshop\n",
    "### University of Waterloo, June 2018\n",
    "authors: Ivana Kajić, Sean Aubin, Ryan Neufeld\n",
    "\n",
    "\n",
    "## Introduction\n",
    "The goal of this project is to create a simple quiz that asks different types of questions and tells the user how well they did. The user will be given a question, and should type their answer. The program will check whether what they've typed is correct and prints the feedback.\n",
    "\n",
    "\n",
    "The following is an example of a quiz (user responses are surrounded by stars `**` for clarity):"
   ]
  },
  {
   "cell_type": "markdown",
   "metadata": {},
   "source": [
    "```\n",
    "What is the largest city in Africa? *Cairo*\n",
    "Correct! Cairo is the largest city in Africa.\n",
    "\n",
    "```\n",
    "\n",
    "```\n",
    "\n",
    "Does Vitamin F exit? [yes/no] *no*\n",
    "Incorrect! Essential fatty acids are commonly referred to as Vitamin F.\n",
    "\n",
    "```\n",
    "\n",
    "```\n",
    "\n",
    "Type a word that fills the gap: ______ is the capital of New Zealand. \n",
    "*Wellington*\n",
    "Correct!\n",
    "```\n",
    "\n",
    "```\n",
    "\n",
    "What is the name of the spiciest pepper:\n",
    "a) Habanero\n",
    "b) Jalapeno\n",
    "c) Carolina Reaper\n",
    "*a*\n",
    "Incorrect! The correct answer is c.\n",
    "```\n"
   ]
  },
  {
   "cell_type": "markdown",
   "metadata": {
    "slideshow": {
     "slide_type": "slide"
    }
   },
   "source": [
    "The project is to be done at your own pace. Every part of instructions contains detailed steps and hints on how to complete that part (if you get stuck).\n",
    "\n",
    "See if you can complete the step without the hints first. If you don't understand something or want to know more about some part of the code, don't hesitate to ask a mentor for an explanation. Sometimes, there are many different ways to do the same thing!"
   ]
  },
  {
   "cell_type": "markdown",
   "metadata": {
    "slideshow": {
     "slide_type": "slide"
    }
   },
   "source": [
    "## 1. Think of Three Questions\n",
    "\n",
    "First, think of three questions on any topic (for example something that interests you or something new, so you can learn new things). Here is a suggestion for three kinds of questions you might want to think about (see the example above):\n",
    "- One yes/no question\n",
    "- One multiple choice (a/b/c/d...) question\n",
    "- One question with a single number or word answer\n",
    "\n",
    "You might want to write your questions and answers and save them in a text/Word doc file, so you don't forget the questions (and answers) as you work on your program. "
   ]
  },
  {
   "cell_type": "markdown",
   "metadata": {},
   "source": [
    "## 2. Store your questions\n",
    "\n",
    "Now we got three questions, let's store them in variables so we can display them on the program. Create a file called `quiz.py` in your workshop folder and store your questions like this:\n",
    "\n",
    "```python\n",
    "q1 = \"...\"\n",
    "q2 = \"...\"\n",
    "q3 = \"...\"\n",
    "questions = [q1, q2, q3]\n",
    "```\n",
    "\n",
    "where \"...\" is the actual text of your question. If the text of your question has several lines use triple quotes:\n",
    "\n",
    "```python\n",
    "long_text = \"\"\"This is a really long line of text:\n",
    "- It's so lonooooooooooooooooooooooooooooooooooooooog\n",
    "- Oh so very long\n",
    "- It's crazy\n",
    "\"\"\"\n",
    "print(long_text)\n",
    "```"
   ]
  },
  {
   "cell_type": "markdown",
   "metadata": {},
   "source": [
    "## 3. Store your answers\n",
    "\n",
    "Now, it's time to store the answers. We need these answers to compare them to the answers that the user gives us, and return feedback on whether the user gave a correct or wrong response.\n",
    "\n",
    "```python\n",
    "a1 = \"...\"\n",
    "a2 = \"...\"\n",
    "a3 = \"...\"\n",
    "solutions = [a1, a2, a3]\n",
    "```"
   ]
  },
  {
   "cell_type": "markdown",
   "metadata": {
    "slideshow": {
     "slide_type": "slide"
    }
   },
   "source": [
    "## 4. Putting everything together\n",
    "\n",
    "Now, we have questions and answers but we need to put everything together. This is the algorithm:\n",
    "\n",
    "1. Display the question\n",
    "2. Get the answer from the user\n",
    "3. Compare the answer user gave with the correct one\n",
    "4. Display the appropriate message (incorrect/correct)\n",
    "\n",
    "Try implementing these steps and running the quiz. Use hints below if you get stuck.\n",
    "\n",
    "### Hint\n",
    "\n",
    "- The function for getting input from the user is `input()`.\n",
    "- The function for putting output onto the console is `print()`.\n",
    "- To check the answer, you need to compare `if user_input == solution:`"
   ]
  },
  {
   "cell_type": "markdown",
   "metadata": {
    "slideshow": {
     "slide_type": "slide"
    }
   },
   "source": [
    "## 5. Making things more efficient\n",
    "\n",
    "\n",
    "You've probably noticed that your code is looking a bit like spaghetti-code, it's long and there are things being repeated. To avoid repetition and make the code more efficient, we can use a **for loop** to repeat the things for us, which should make it easier to add more questions and answers in the future. \n",
    "\n",
    "First, take a moment to think about what are the things that are being repeated for each question. Then, think about the variable and its data type that you are going to use to store the questions and answers. Should you store both of them in one variable, or create two separate ones?\n",
    "\n",
    "If your plan sounds like this pseudo-code (code which is not specific to a programming language, but conveys the idea) then you're good to start coding:\n",
    "\n",
    "```\n",
    "for question in questions\n",
    "    ask question\n",
    "    get answer\n",
    "    evaluate answer\n",
    "```\n",
    "\n",
    "If you're still stuck, feel free to look at the hints below to help you:"
   ]
  },
  {
   "cell_type": "markdown",
   "metadata": {
    "slideshow": {
     "slide_type": "slide"
    }
   },
   "source": [
    "### Hint\n",
    "Your code will look something like this:"
   ]
  },
  {
   "cell_type": "code",
   "execution_count": null,
   "metadata": {
    "slideshow": {
     "slide_type": "-"
    }
   },
   "outputs": [],
   "source": [
    "# q1, q2 and q3 are the variables I've used to save my variable\n",
    "questions = [q1, q2, q3]\n",
    "solutions = [\"Yes\", \"b\", \"superior\"]\n",
    "\n",
    "for index in range(len(questions)):\n",
    "    user_ans = input(questions[index])\n",
    "    if user_ans == solutions[index]:\n",
    "        # print something"
   ]
  },
  {
   "cell_type": "markdown",
   "metadata": {},
   "source": [
    "This code won't run, but it should give you a start if you're stuck and let you check if you're on the right track.\n",
    "\n",
    "### Bonus \n",
    "\n",
    "Look up what `zip()` does. How could you use it to eliminate the index variable?"
   ]
  },
  {
   "cell_type": "markdown",
   "metadata": {
    "slideshow": {
     "slide_type": "slide"
    }
   },
   "source": [
    "6. Keep Track of the Number of Right Answers\n",
    "---\n",
    "\n",
    "Note every answer the user gets right. Print the number of correct answers at the end of the quiz."
   ]
  },
  {
   "cell_type": "markdown",
   "metadata": {},
   "source": [
    "## 7. Make Answers Case-Insensitive\n",
    "\n",
    "\n",
    "For yes/no questions, yes/YES/yES are all valid answers. For a/b/c/d type of questions both a and A (b and B...) should be accepted. Also, single-word answers should be evaluated independently of the upper/lower caps.\n",
    "\n",
    "### Hint 1\n",
    "\n",
    "Take a look at the `lower()` function which converts a string into all lower-case letters. Experiment with it by creating a string variable and appeting `.lower()`:"
   ]
  },
  {
   "cell_type": "code",
   "execution_count": 1,
   "metadata": {},
   "outputs": [
    {
     "name": "stdout",
     "output_type": "stream",
     "text": [
      "helloooo!\n"
     ]
    }
   ],
   "source": [
    "greeting = \"HELLOOOO!\"\n",
    "print(greeting.lower())"
   ]
  },
  {
   "cell_type": "markdown",
   "metadata": {
    "slideshow": {
     "slide_type": "slide"
    }
   },
   "source": [
    "### Hint 2\n",
    "\n",
    "Convert the user's answer to all uppercase letters and compare it to the stored correct answer.\n",
    "\n",
    "### Hint 3\n",
    "\n",
    "Your code for this part should look something like this:"
   ]
  },
  {
   "cell_type": "code",
   "execution_count": null,
   "metadata": {},
   "outputs": [],
   "source": [
    "if user_input.lower() == solution:\n",
    "    print(\"Correct!\")"
   ]
  },
  {
   "cell_type": "markdown",
   "metadata": {
    "slideshow": {
     "slide_type": "slide"
    }
   },
   "source": [
    "## 8. Visualise the results\n",
    "\n",
    "Instead of printing the correct number of answers, print out number \n",
    "- Write out a `*` for each answer the use got right. For example, if they got three answers right, print out `***`"
   ]
  },
  {
   "cell_type": "markdown",
   "metadata": {},
   "source": [
    "## 9. Improve your quiz!\n",
    "\n",
    "\n",
    "#### Greetings my friend!\n",
    "Ask for the user name and say hello to the quiz taker. In the same way, when the user has done the quiz tell them how much points their scored (e.g. \"Good job Ivana, you scored 5/5 points!\" or \"Sorry Ivana, hopefully you do better next time! You scored 0/5 points!\").\n",
    "\n",
    "#### Account for spaces in answers\n",
    "Make sure that when a user enters \"yes_\" or \"__yes\" (where underscore represents a space) both count as correct answers. Hint: look at existing functions for strings via  '.' or try googling\n",
    "\n",
    "#### Add multiple-correct choice type of a question\n",
    "Make your quiz more interesting by adding another question type where there are multiple answers possible, for example:\n",
    "```\n",
    "What states does lake Onatario border?\n",
    "a) Michigan\n",
    "b) Ontario\n",
    "d) Vermont\n",
    "e) New York\n",
    "```\n",
    "\n",
    "The correct answers are b) and d) so if the user enters bd they should get a point. If they enter anything else (e.g.  abd) they should get 0 points.\n",
    "\n",
    "#### Test your luck: Add a number-guessing question\n",
    "For this question, you will need to use a **while** loop. It is similar to the *for* loop we have seen in lectures, but a *while* loop does something as long as the condition is true. For example, the following code will run as long as the `number` is less than 5:\n",
    "```python\n",
    "number = 0\n",
    "while number < 5:\n",
    "    number = number + 1\n",
    "```\n",
    "\n",
    "Try experimenting with this code to familiarize youself with the while loop. However, be careful, if your condition is always `True` the loop will run forever! If that happens you can use CTRL + C combination of keys to break the looping.\n",
    "\n",
    "Write a question that asks a user for a number. If that number is different from your special number (you define a new variable call `special_number`, the user has to guess again. The guessing continues as long as the user does not enter the number that is equal to `special_number` (while loop can help with this!). If the user guesses the number within 5 attempts they get an extra point.\n",
    "\n",
    "To make things more interesting, you can use the `randint` function which gives you a random number. For that, you need to add the following line at the beginning of your script:\n",
    "```python \n",
    "from random import randint\n",
    "```\n",
    "To use the function, that is, to get a random number between 0 and 9 (inclusive) and store into your `special_number`, add this line:\n",
    "\n",
    "```python\n",
    "special_number = randint(0, 9)\n",
    "```\n",
    "\n",
    "#### Store responses on the disk\n",
    "It is possible to store the questions and answers in a text file on your computer, so that you can modify the quiz later without needing to change the code. For this, you need to look up how to read and write from a file in Python! You will need to create a text file and give it a name, store your questions and answers, and close that file. Then you can use Visual Studio Code to open it and take a look at it!\n",
    "\n",
    "#### Quiz exchange!\n",
    "Exchange your code with the person next to you, and try to solve each other quizzes! If you want to share your quiz with other workshop participants, send an email to our mailing list and attach your name_quiz.py file where name is your name."
   ]
  },
  {
   "cell_type": "code",
   "execution_count": null,
   "metadata": {},
   "outputs": [],
   "source": []
  }
 ],
 "metadata": {
  "kernelspec": {
   "display_name": "Python 3",
   "language": "python",
   "name": "python3"
  },
  "language_info": {
   "codemirror_mode": {
    "name": "ipython",
    "version": 3
   },
   "file_extension": ".py",
   "mimetype": "text/x-python",
   "name": "python",
   "nbconvert_exporter": "python",
   "pygments_lexer": "ipython3",
   "version": "3.5.3"
  }
 },
 "nbformat": 4,
 "nbformat_minor": 2
}
